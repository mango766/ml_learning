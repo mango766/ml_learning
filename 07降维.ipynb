{
  "cells": [
    {
      "cell_type": "markdown",
      "metadata": {
        "id": "view-in-github",
        "colab_type": "text"
      },
      "source": [
        "<a href=\"https://colab.research.google.com/github/mango766/ml_learning/blob/main/07%E9%99%8D%E7%BB%B4.ipynb\" target=\"_parent\"><img src=\"https://colab.research.google.com/assets/colab-badge.svg\" alt=\"Open In Colab\"/></a>"
      ]
    },
    {
      "cell_type": "markdown",
      "metadata": {
        "id": "p-Mt7QosjvMJ"
      },
      "source": [
        "降维：\n",
        "\n",
        "投影\n",
        "\n",
        "PCA"
      ]
    },
    {
      "cell_type": "code",
      "execution_count": null,
      "metadata": {
        "id": "T58-FdniTJME"
      },
      "outputs": [],
      "source": [
        "import sys\n",
        "assert sys.version_info >= (3, 5)\n",
        "\n",
        "# Scikit-Learn ≥0.20 is required\n",
        "import sklearn\n",
        "assert sklearn.__version__ >= \"0.20\"\n",
        "\n",
        "# Common imports\n",
        "import numpy as np\n",
        "import os\n",
        "\n",
        "# to make this notebook's output stable across runs\n",
        "np.random.seed(42)\n",
        "\n",
        "# To plot pretty figures\n",
        "%matplotlib inline\n",
        "import matplotlib as mpl\n",
        "import matplotlib.pyplot as plt\n",
        "mpl.rc('axes', labelsize=14)\n",
        "mpl.rc('xtick', labelsize=12)\n",
        "mpl.rc('ytick', labelsize=12)\n",
        "\n",
        "# Where to save the figures\n",
        "PROJECT_ROOT_DIR = \".\"\n",
        "CHAPTER_ID = \"dim_reduction\"\n",
        "IMAGES_PATH = os.path.join(PROJECT_ROOT_DIR, \"images\", CHAPTER_ID)\n",
        "os.makedirs(IMAGES_PATH, exist_ok=True)\n",
        "\n",
        "def save_fig(fig_id, tight_layout=True, fig_extension=\"png\", resolution=300):\n",
        "    path = os.path.join(IMAGES_PATH, fig_id + \".\" + fig_extension)\n",
        "    print(\"Saving figure\", fig_id)\n",
        "    if tight_layout:\n",
        "        plt.tight_layout()\n",
        "    plt.savefig(path, format=fig_extension, dpi=resolution)"
      ]
    },
    {
      "cell_type": "markdown",
      "metadata": {
        "id": "hT85dO_aj4ph"
      },
      "source": [
        "# 3、PCA主成分分析法"
      ]
    },
    {
      "cell_type": "code",
      "execution_count": null,
      "metadata": {
        "id": "4tojq8D6nYbX"
      },
      "outputs": [],
      "source": [
        "import numpy as np\n",
        "np.random.seed(4)\n",
        "m = 60\n",
        "w1, w2 = 0.1, 0.3\n",
        "noise = 0.1\n",
        "\n",
        "angles = np.random.rand(m) * 3 * np.pi / 2 - 0.5\n",
        "X = np.empty((m, 3))\n",
        "X[:, 0] = np.cos(angles) + np.sin(angles)/2 + noise * np.random.randn(m) / 2\n",
        "X[:, 1] = np.sin(angles) * 0.7 + noise * np.random.randn(m) / 2\n",
        "X[:, 2] = X[:, 0] * w1 + X[:, 1] * w2 + noise * np.random.randn(m)"
      ]
    },
    {
      "cell_type": "code",
      "execution_count": null,
      "metadata": {
        "id": "Jf8MEp8jjqT3"
      },
      "outputs": [],
      "source": [
        "X_centered = X - X.mean(axis=0)\n",
        "U, s, Vt = np.linalg.svd(X_centered)\n",
        "c1 = Vt.T[:0]\n",
        "c2 = Vt.T[:1]"
      ]
    },
    {
      "cell_type": "code",
      "execution_count": null,
      "metadata": {
        "id": "HG5Ho4tN-UZ4"
      },
      "outputs": [],
      "source": [
        "W2 = Vt.T[:, :2]#取所有行的第0、1列数据\n",
        "X2D = X_centered.dot(W2)"
      ]
    },
    {
      "cell_type": "markdown",
      "metadata": {
        "id": "R6OWTbkhH7Rz"
      },
      "source": [
        "使用sklearn，将训练集投影到前两个主成分定义的平面上"
      ]
    },
    {
      "cell_type": "code",
      "execution_count": null,
      "metadata": {
        "colab": {
          "base_uri": "https://localhost:8080/"
        },
        "id": "Wd7AfQcBH-vl",
        "outputId": "f2872845-749b-4403-aba8-ec4a45ebbf57"
      },
      "outputs": [
        {
          "data": {
            "text/plain": [
              "array([[ 1.26203346,  0.42067648],\n",
              "       [-0.08001485, -0.35272239],\n",
              "       [ 1.17545763,  0.36085729],\n",
              "       [ 0.89305601, -0.30862856],\n",
              "       [ 0.73016287, -0.25404049],\n",
              "       [-1.10436914,  0.20204953],\n",
              "       [ 1.27265808,  0.46781247],\n",
              "       [-0.44933007,  0.67736663],\n",
              "       [-1.09356195, -0.04467792],\n",
              "       [-0.66177325, -0.28651264],\n",
              "       [ 1.04466138, -0.11244353],\n",
              "       [-1.05932502,  0.31189109],\n",
              "       [ 1.13761426,  0.14576655],\n",
              "       [ 1.16044117,  0.36481599],\n",
              "       [-1.00167625,  0.39422008],\n",
              "       [ 0.2750406 , -0.34391089],\n",
              "       [-0.45624787,  0.69707573],\n",
              "       [-0.79706574, -0.26870969],\n",
              "       [-0.66924929,  0.65520024],\n",
              "       [ 1.30679728,  0.37671343],\n",
              "       [-0.6626586 , -0.32706423],\n",
              "       [ 1.25387588,  0.56043928],\n",
              "       [ 1.04046987, -0.08727672],\n",
              "       [ 1.26047729,  0.1571074 ],\n",
              "       [-1.09786649,  0.38643428],\n",
              "       [-0.7130973 ,  0.64941523],\n",
              "       [ 0.17786909, -0.43609071],\n",
              "       [-1.02975735,  0.33747452],\n",
              "       [ 0.94552283, -0.22833268],\n",
              "       [-0.80994916, -0.33810729],\n",
              "       [-0.20189175, -0.3514758 ],\n",
              "       [ 1.34219411,  0.42415687],\n",
              "       [-0.13599883, -0.37258632],\n",
              "       [-0.8206931 ,  0.55120835],\n",
              "       [-0.90818634,  0.31869127],\n",
              "       [-0.06703671, -0.42486148],\n",
              "       [-0.13936893, -0.41906961],\n",
              "       [ 0.37356775, -0.27320849],\n",
              "       [-0.7312441 , -0.23441131],\n",
              "       [ 0.5230355 , -0.46621776],\n",
              "       [-0.86146183, -0.30212526],\n",
              "       [ 0.33203239, -0.47352674],\n",
              "       [ 0.99467436, -0.18342807],\n",
              "       [-1.04520043,  0.32697207],\n",
              "       [-0.87477048, -0.18062856],\n",
              "       [-0.30457923, -0.43904343],\n",
              "       [ 0.63685997, -0.32851826],\n",
              "       [-1.1287259 ,  0.11627335],\n",
              "       [-0.03836205, -0.49036349],\n",
              "       [ 0.41386843, -0.31734423],\n",
              "       [ 1.32417938,  0.1944472 ],\n",
              "       [-0.92968677, -0.18429606],\n",
              "       [ 0.40274964, -0.34154025],\n",
              "       [-1.11480941,  0.24138847],\n",
              "       [-0.31915065, -0.27787663],\n",
              "       [-1.02666316,  0.34676546],\n",
              "       [ 1.24145806,  0.35049349],\n",
              "       [-0.66770361, -0.32262317],\n",
              "       [ 1.16397896, -0.03648137],\n",
              "       [-0.68326064, -0.22756871]])"
            ]
          },
          "execution_count": 6,
          "metadata": {},
          "output_type": "execute_result"
        }
      ],
      "source": [
        "from sklearn.decomposition import PCA\n",
        "pca = PCA(n_components=2);\n",
        "X2D = pca.fit_transform(X)\n",
        "X2D"
      ]
    },
    {
      "cell_type": "markdown",
      "metadata": {
        "id": "fOZo19q3Iywn"
      },
      "source": [
        "## 3.5 可解释方差比"
      ]
    },
    {
      "cell_type": "code",
      "execution_count": null,
      "metadata": {
        "colab": {
          "base_uri": "https://localhost:8080/"
        },
        "id": "0m6oWO04I_Dw",
        "outputId": "f228735a-b1cc-42e5-c7ea-0eb7473bbad9"
      },
      "outputs": [
        {
          "data": {
            "text/plain": [
              "array([0.84248607, 0.14631839])"
            ]
          },
          "execution_count": 7,
          "metadata": {},
          "output_type": "execute_result"
        }
      ],
      "source": [
        "pca.explained_variance_ratio_"
      ]
    },
    {
      "cell_type": "markdown",
      "metadata": {
        "id": "WeVJ8IjgJOuP"
      },
      "source": [
        "表示数据集方差的84%位于第一个PC上，数据集方差的14%位于第二个PC上"
      ]
    },
    {
      "cell_type": "markdown",
      "metadata": {
        "id": "AnM7zpWiKBkP"
      },
      "source": [
        "## `3.6 选择正确的维度`"
      ]
    },
    {
      "cell_type": "markdown",
      "metadata": {
        "id": "VbcWyyehKK31"
      },
      "source": [
        "与其任意选择最小的维度数量，不如选择方差相加足够大的维度数，例如不降低维度，选择两三四五等维度数，使其相加的方差比大于95%。"
      ]
    },
    {
      "cell_type": "code",
      "execution_count": null,
      "metadata": {
        "id": "guZEmmDnMtM_"
      },
      "outputs": [],
      "source": [
        "import numpy as np\n",
        "from sklearn.datasets import fetch_openml\n",
        "\n",
        "mnist = fetch_openml('mnist_784', version=1, as_frame=False)\n",
        "mnist.target = mnist.target.astype(np.uint8)\n",
        "\n",
        "from sklearn.model_selection import train_test_split\n",
        "\n",
        "X = mnist[\"data\"]\n",
        "y = mnist[\"target\"]\n",
        "\n",
        "X_train, X_test, y_train, y_test = train_test_split(X, y)"
      ]
    },
    {
      "cell_type": "code",
      "execution_count": null,
      "metadata": {
        "id": "4K68JFIyKE4_"
      },
      "outputs": [],
      "source": [
        "pca = PCA()\n",
        "pca.fit(X_train)\n",
        "cumsum = np.cumsum(pca.explained_variance_ratio_)\n",
        "d = np.argmax(cumsum >= 0.95)+1\n"
      ]
    },
    {
      "cell_type": "code",
      "execution_count": null,
      "metadata": {
        "colab": {
          "base_uri": "https://localhost:8080/"
        },
        "id": "TAMkgs-VNU43",
        "outputId": "cc55d057-a7db-4b84-b4d5-98fde78148b1"
      },
      "outputs": [
        {
          "data": {
            "text/plain": [
              "array([[-563.82559445,  376.21158528,  547.80926278, ...,   19.38905129,\n",
              "         -14.8845654 ,   54.51253826],\n",
              "       [-247.60677316,  594.11581248, -761.17658857, ...,  -71.45002811,\n",
              "         -35.42725361,   -6.14753115],\n",
              "       [ -76.10689476, -718.88626737, -621.34715826, ...,  -33.70667711,\n",
              "          46.79720596,   41.99423193],\n",
              "       ...,\n",
              "       [ 446.89768573,  200.53844515, -326.08785441, ...,   22.88163079,\n",
              "          57.77169794,  -28.3108812 ],\n",
              "       [ 794.82898691, -164.9787896 ,   48.41468921, ...,    4.61839146,\n",
              "          -2.14649477,   17.03401382],\n",
              "       [-903.11423891, -456.07653996, -139.5851229 , ...,   -2.61355561,\n",
              "          -9.49564537,    2.05450968]])"
            ]
          },
          "execution_count": 10,
          "metadata": {},
          "output_type": "execute_result"
        }
      ],
      "source": [
        "pca = PCA(n_components=d)\n",
        "#pca = PCA(n_components=0.95)或者直接设置要保留的方差比\n",
        "X_reduced = pca.fit_transform(X_train)\n",
        "X_reduced"
      ]
    },
    {
      "cell_type": "code",
      "execution_count": null,
      "metadata": {
        "colab": {
          "base_uri": "https://localhost:8080/",
          "height": 315
        },
        "id": "vjCvHOGDTEL-",
        "outputId": "2693d86d-83bd-4575-ab28-6073cbbe75d8"
      },
      "outputs": [
        {
          "name": "stdout",
          "output_type": "stream",
          "text": [
            "Saving figure explained_variance_plot\n"
          ]
        },
        {
          "data": {
            "image/png": "[encoded data removed]",
            "text/plain": [
              "<Figure size 432x288 with 1 Axes>"
            ]
          },
          "metadata": {},
          "output_type": "display_data"
        }
      ],
      "source": [
        "plt.figure(figsize=(6,4))\n",
        "plt.plot(cumsum, linewidth=3)\n",
        "plt.axis([0, 400, 0, 1])\n",
        "plt.xlabel(\"Dimensions\")\n",
        "plt.ylabel(\"Explained Variance\")\n",
        "plt.plot([d, d], [0, 0.95], \"k:\")\n",
        "plt.plot([0, d], [0.95, 0.95], \"k:\")\n",
        "plt.plot(d, 0.95, \"ko\")\n",
        "plt.annotate(\"Elbow\", xy=(65, 0.85), xytext=(70, 0.7),\n",
        "             arrowprops=dict(arrowstyle=\"->\"), fontsize=16)\n",
        "plt.grid(True)\n",
        "save_fig(\"explained_variance_plot\")\n",
        "plt.show()"
      ]
    },
    {
      "cell_type": "code",
      "execution_count": null,
      "metadata": {
        "colab": {
          "base_uri": "https://localhost:8080/"
        },
        "id": "ck-oE0a-Tjw1",
        "outputId": "5d131177-a91d-4d7a-a775-36282d40085f"
      },
      "outputs": [
        {
          "data": {
            "text/plain": [
              "154"
            ]
          },
          "execution_count": 12,
          "metadata": {},
          "output_type": "execute_result"
        }
      ],
      "source": [
        "pca.n_components_"
      ]
    },
    {
      "cell_type": "markdown",
      "metadata": {
        "id": "IFL9qoQXYZ59"
      },
      "source": [
        "3.7 PCA压缩"
      ]
    },
    {
      "cell_type": "markdown",
      "metadata": {
        "id": "mH_purkKYt2Q"
      },
      "source": [
        "压缩为154个维度，再进行解压，对比误差成为重构误差"
      ]
    },
    {
      "cell_type": "code",
      "execution_count": null,
      "metadata": {
        "id": "u1ryY4GLYc91"
      },
      "outputs": [],
      "source": [
        "pca = PCA(n_components=154)\n",
        "X_reduced = pca.fit_transform(X_train)\n",
        "X_recovered = pca.inverse_transform(X_reduced)"
      ]
    },
    {
      "cell_type": "code",
      "execution_count": null,
      "metadata": {
        "id": "n_MHCtXBYYeV"
      },
      "outputs": [],
      "source": [
        "# EXTRA\n",
        "def plot_digits(instances, images_per_row=5, **options):\n",
        "    size = 28\n",
        "    images_per_row = min(len(instances), images_per_row)\n",
        "    # This is equivalent to n_rows = ceil(len(instances) / images_per_row):\n",
        "    n_rows = (len(instances) - 1) // images_per_row + 1\n",
        "\n",
        "    # Append empty images to fill the end of the grid, if needed:\n",
        "    n_empty = n_rows * images_per_row - len(instances)\n",
        "    padded_instances = np.concatenate([instances, np.zeros((n_empty, size * size))], axis=0)\n",
        "\n",
        "    # Reshape the array so it's organized as a grid containing 28×28 images:\n",
        "    image_grid = padded_instances.reshape((n_rows, images_per_row, size, size))\n",
        "\n",
        "    # Combine axes 0 and 2 (vertical image grid axis, and vertical image axis),\n",
        "    # and axes 1 and 3 (horizontal axes). We first need to move the axes that we\n",
        "    # want to combine next to each other, using transpose(), and only then we\n",
        "    # can reshape:\n",
        "    big_image = image_grid.transpose(0, 2, 1, 3).reshape(n_rows * size,\n",
        "                                                         images_per_row * size)\n",
        "    # Now that we have a big image, we just need to show it:\n",
        "    plt.imshow(big_image, cmap = mpl.cm.binary, **options)\n",
        "    plt.axis(\"off\")"
      ]
    },
    {
      "cell_type": "code",
      "execution_count": null,
      "metadata": {
        "colab": {
          "base_uri": "https://localhost:8080/",
          "height": 303
        },
        "id": "AYkF8OeGZSF1",
        "outputId": "35aeeb0d-1482-41ed-9d0d-e08559b84fcd"
      },
      "outputs": [
        {
          "name": "stdout",
          "output_type": "stream",
          "text": [
            "Saving figure mnist_compression_plot\n"
          ]
        },
        {
          "data": {
            "image/png": "[encoded data removed]",
            "text/plain": [
              "<Figure size 504x288 with 2 Axes>"
            ]
          },
          "metadata": {},
          "output_type": "display_data"
        }
      ],
      "source": [
        "plt.figure(figsize=(7, 4))\n",
        "plt.subplot(121)\n",
        "plot_digits(X_train[::2100])\n",
        "plt.title(\"Original\", fontsize=16)\n",
        "plt.subplot(122)\n",
        "plot_digits(X_recovered[::2100])\n",
        "plt.title(\"Compressed\", fontsize=16)\n",
        "\n",
        "save_fig(\"mnist_compression_plot\")"
      ]
    },
    {
      "cell_type": "markdown",
      "metadata": {
        "id": "sD8mLyWm_7f3"
      },
      "source": [
        "随机pca,快速找到前d个主成分的近似值，当d远小于n时，他比完全的svd快的多"
      ]
    },
    {
      "cell_type": "code",
      "execution_count": null,
      "metadata": {
        "id": "IuVeBLcyDa5n"
      },
      "outputs": [],
      "source": [
        "rnd_pca = PCA(n_components = 154,svd_solver=\"randomized\")\n",
        "X_reduced = rnd_pca.fit_transform(X_train)"
      ]
    },
    {
      "cell_type": "markdown",
      "metadata": {
        "id": "EMS8gRALFK6F"
      },
      "source": [
        "增量PCA"
      ]
    },
    {
      "cell_type": "code",
      "execution_count": null,
      "metadata": {
        "colab": {
          "base_uri": "https://localhost:8080/",
          "height": 211
        },
        "id": "oRyMR2NEFCxP",
        "outputId": "f0c32b5c-b27c-406c-e43b-e9c88efc1b97"
      },
      "outputs": [
        {
          "ename": "AttributeError",
          "evalue": "ignored",
          "output_type": "error",
          "traceback": [
            "\u001b[0;31m---------------------------------------------------------------------------\u001b[0m",
            "\u001b[0;31mAttributeError\u001b[0m                            Traceback (most recent call last)",
            "\u001b[0;32m<ipython-input-18-247153a168ba>\u001b[0m in \u001b[0;36m<module>\u001b[0;34m\u001b[0m\n\u001b[1;32m      5\u001b[0m \u001b[0;32mfor\u001b[0m \u001b[0mX_batch\u001b[0m \u001b[0;32min\u001b[0m \u001b[0mnp\u001b[0m\u001b[0;34m.\u001b[0m\u001b[0marray_split\u001b[0m\u001b[0;34m(\u001b[0m\u001b[0mX_train\u001b[0m\u001b[0;34m,\u001b[0m\u001b[0mn_batches\u001b[0m\u001b[0;34m)\u001b[0m\u001b[0;34m:\u001b[0m\u001b[0;34m\u001b[0m\u001b[0;34m\u001b[0m\u001b[0m\n\u001b[1;32m      6\u001b[0m   \u001b[0minc_pca\u001b[0m\u001b[0;34m.\u001b[0m\u001b[0mpartial_fit\u001b[0m\u001b[0;34m(\u001b[0m\u001b[0mX_batch\u001b[0m\u001b[0;34m)\u001b[0m\u001b[0;34m\u001b[0m\u001b[0;34m\u001b[0m\u001b[0m\n\u001b[0;32m----> 7\u001b[0;31m \u001b[0mX_reduced\u001b[0m \u001b[0;34m=\u001b[0m \u001b[0minc_pca\u001b[0m\u001b[0;34m.\u001b[0m\u001b[0mtransfrom\u001b[0m\u001b[0;34m(\u001b[0m\u001b[0mX_train\u001b[0m\u001b[0;34m)\u001b[0m\u001b[0;34m\u001b[0m\u001b[0;34m\u001b[0m\u001b[0m\n\u001b[0m",
            "\u001b[0;31mAttributeError\u001b[0m: 'IncrementalPCA' object has no attribute 'transfrom'"
          ]
        }
      ],
      "source": [
        "# from sklearn.decomposition import IncrementalPCA\n",
        "\n",
        "# n_batches = 100\n",
        "# inc_pca = IncrementalPCA(n_components=154)\n",
        "# for X_batch in np.array_split(X_train,n_batches):\n",
        "#   inc_pca.partial_fit(X_batch)\n",
        "# X_reduced = inc_pca.transfrom(X_train)"
      ]
    },
    {
      "cell_type": "code",
      "execution_count": null,
      "metadata": {
        "id": "WY-qMQh_X7dQ"
      },
      "outputs": [],
      "source": [
        "from sklearn.datasets import make_swiss_roll\n",
        "X, t = make_swiss_roll(n_samples=1000, noise=0.2, random_state=42)\n",
        "y = t > 6.9"
      ]
    },
    {
      "cell_type": "code",
      "execution_count": null,
      "metadata": {
        "id": "Wwa6qfLeO84S"
      },
      "outputs": [],
      "source": [
        "from sklearn.decomposition import KernelPCA\n",
        "rbf_pca = KernelPCA(n_components = 2, kernel = \"rbf\",gamma=0.04)\n",
        "X_reduced = rbf_pca.fit_transform(X)"
      ]
    },
    {
      "cell_type": "markdown",
      "metadata": {
        "id": "MydrGDtyReXM"
      },
      "source": [
        "使用网格搜索查找最佳内核和grammar"
      ]
    },
    {
      "cell_type": "code",
      "execution_count": null,
      "metadata": {
        "colab": {
          "base_uri": "https://localhost:8080/"
        },
        "id": "zB3GdybzR0gd",
        "outputId": "7909383f-e44a-409b-8ddd-a156c2ac4798"
      },
      "outputs": [
        {
          "data": {
            "text/plain": [
              "GridSearchCV(cv=3,\n",
              "             estimator=Pipeline(steps=[('kpca', KernelPCA(n_components=2)),\n",
              "                                       ('log_reg', LogisticRegression())]),\n",
              "             param_grid=[{'kpca__gamma': array([0.03      , 0.03222222, 0.03444444, 0.03666667, 0.03888889,\n",
              "       0.04111111, 0.04333333, 0.04555556, 0.04777778, 0.05      ]),\n",
              "                          'kpca__kernel': ['rbf', 'sigmoid']}])"
            ]
          },
          "execution_count": 6,
          "metadata": {},
          "output_type": "execute_result"
        }
      ],
      "source": [
        "import numpy as np\n",
        "from sklearn.decomposition import KernelPCA\n",
        "from sklearn.model_selection import GridSearchCV\n",
        "from sklearn.linear_model import LogisticRegression\n",
        "from sklearn.pipeline import Pipeline\n",
        "\n",
        "clf = Pipeline([\n",
        "    (\"kpca\",KernelPCA(n_components=2)),\n",
        "    (\"log_reg\",LogisticRegression(solver=\"lbfgs\"))\n",
        "])\n",
        "\n",
        "param_grid = [{\n",
        "    \"kpca__gamma\":np.linspace(0.03,0.05,10),\n",
        "    \"kpca__kernel\":[\"rbf\", \"sigmoid\"]\n",
        "}]\n",
        "\n",
        "grid_search = GridSearchCV(clf,param_grid,cv=3)\n",
        "grid_search.fit(X,y)"
      ]
    },
    {
      "cell_type": "code",
      "execution_count": null,
      "metadata": {
        "colab": {
          "base_uri": "https://localhost:8080/"
        },
        "id": "DDG05ae4YT9d",
        "outputId": "797e5558-7aa0-47e5-b1a2-bcd6af7910ed"
      },
      "outputs": [
        {
          "data": {
            "text/plain": [
              "{'kpca__gamma': 0.043333333333333335, 'kpca__kernel': 'rbf'}"
            ]
          },
          "execution_count": 7,
          "metadata": {},
          "output_type": "execute_result"
        }
      ],
      "source": [
        "grid_search.best_params_"
      ]
    },
    {
      "cell_type": "markdown",
      "metadata": {
        "id": "ZLA4Vi1RfhSZ"
      },
      "source": [
        "# 5、LLE"
      ]
    },
    {
      "cell_type": "markdown",
      "metadata": {
        "id": "ODNhDf-KflMR"
      },
      "source": [
        "局部性嵌入LLE,强大的非线性降维技术"
      ]
    },
    {
      "cell_type": "code",
      "execution_count": null,
      "metadata": {
        "id": "olPXR1zrgv8w"
      },
      "outputs": [],
      "source": [
        "X, t = make_swiss_roll(n_samples=1000, noise=0.2, random_state=42)\n",
        "from sklearn.manifold import LocallyLinearEmbedding\n",
        "\n",
        "lle = LocallyLinearEmbedding(n_components=2, n_neighbors=10, random_state=42)\n",
        "X_reduced = lle.fit_transform(X)"
      ]
    },
    {
      "cell_type": "code",
      "execution_count": null,
      "metadata": {
        "colab": {
          "base_uri": "https://localhost:8080/",
          "height": 304
        },
        "id": "zuerbYwyg23n",
        "outputId": "e58d3745-f8ef-4ffd-e43c-386ac5c481ed"
      },
      "outputs": [
        {
          "data": {
            "image/png": "[encoded data removed]",
            "text/plain": [
              "<Figure size 432x288 with 1 Axes>"
            ]
          },
          "metadata": {},
          "output_type": "display_data"
        }
      ],
      "source": [
        "import matplotlib.pyplot as plt\n",
        "plt.title(\"Unrolled swiss roll using LLE\", fontsize=14)\n",
        "plt.scatter(X_reduced[:, 0], X_reduced[:, 1], c=t, cmap=plt.cm.hot)\n",
        "plt.xlabel(\"$z_1$\", fontsize=18)\n",
        "plt.ylabel(\"$z_2$\", fontsize=18)\n",
        "plt.axis([-0.065, 0.055, -0.1, 0.12])\n",
        "plt.grid(True)\n",
        "\n",
        "# save_fig(\"lle_unrolling_plot\")\n",
        "plt.show()"
      ]
    },
    {
      "cell_type": "markdown",
      "metadata": {
        "id": "tpSN51QrkX8X"
      },
      "source": [
        "# 作业1：使用mnist数据集,随机森林分类器，使用PCA与不使用PCA对比\n"
      ]
    },
    {
      "cell_type": "code",
      "execution_count": null,
      "metadata": {
        "id": "Dz487_MalBOX"
      },
      "outputs": [],
      "source": [
        "import numpy as np\n",
        "from sklearn.datasets import fetch_openml\n",
        "\n",
        "mnist = fetch_openml('mnist_784', version=1, as_frame=False)\n",
        "mnist.target = mnist.target.astype(np.uint8)\n",
        "\n",
        "from sklearn.model_selection import train_test_split\n",
        "\n",
        "X = mnist[\"data\"]\n",
        "y = mnist[\"target\"]\n",
        "\n",
        "X_train = mnist['data'][:60000]\n",
        "y_train = mnist['target'][:60000]\n",
        "\n",
        "X_test = mnist['data'][60000:]\n",
        "y_test = mnist['target'][60000:]"
      ]
    },
    {
      "cell_type": "markdown",
      "metadata": {
        "id": "n2C84HXQoTNd"
      },
      "source": [
        "不使用PCA"
      ]
    },
    {
      "cell_type": "code",
      "execution_count": null,
      "metadata": {
        "id": "f0wQiOuPlWLZ"
      },
      "outputs": [],
      "source": [
        "from sklearn.ensemble import RandomForestClassifier\n",
        "rnd_clf = RandomForestClassifier(n_estimators=100, random_state=42)"
      ]
    },
    {
      "cell_type": "code",
      "execution_count": null,
      "metadata": {
        "colab": {
          "base_uri": "https://localhost:8080/"
        },
        "id": "s_fj8NB1mVbi",
        "outputId": "82974ef8-8e82-4fa8-db90-986702ee8fbc"
      },
      "outputs": [
        {
          "name": "stdout",
          "output_type": "stream",
          "text": [
            "随机森林分类器训练时间为：69.88s\n"
          ]
        }
      ],
      "source": [
        "import time\n",
        "t0 = time.time()\n",
        "rnd_clf.fit(X_train,y_train)\n",
        "t1 = time.time()\n",
        "print(\"随机森林分类器训练时间为：{:.2f}s\".format(t1 - t0))"
      ]
    },
    {
      "cell_type": "code",
      "execution_count": null,
      "metadata": {
        "colab": {
          "base_uri": "https://localhost:8080/"
        },
        "id": "xn0fqXCamdO6",
        "outputId": "3641ea0a-915d-47d4-d4cc-ee1d64c876cf"
      },
      "outputs": [
        {
          "name": "stdout",
          "output_type": "stream",
          "text": [
            "不使用PCA的随机森林预测准确率为： 0.9705\n"
          ]
        }
      ],
      "source": [
        "from sklearn.metrics import accuracy_score\n",
        "y_pred = rnd_clf.predict(X_test)\n",
        "print(\"不使用PCA的随机森林预测准确率为：\",accuracy_score(y_pred,y_test))"
      ]
    },
    {
      "cell_type": "markdown",
      "metadata": {
        "id": "inVJl6qUn-pe"
      },
      "source": [
        "使用PCA"
      ]
    },
    {
      "cell_type": "code",
      "execution_count": null,
      "metadata": {
        "id": "60UmjYw_oqcT"
      },
      "outputs": [],
      "source": [
        "from sklearn.decomposition import PCA\n",
        "pca = PCA(n_components=0.95)\n",
        "X_train_preduced = pca.fit_transform(X_train)"
      ]
    },
    {
      "cell_type": "code",
      "execution_count": null,
      "metadata": {
        "id": "1Soh2mRfpM9M"
      },
      "outputs": [],
      "source": [
        "rnd_clf2 = RandomForestClassifier(n_estimators=100, random_state=42)"
      ]
    },
    {
      "cell_type": "code",
      "execution_count": null,
      "metadata": {
        "colab": {
          "base_uri": "https://localhost:8080/"
        },
        "id": "_s28ZgeppSkG",
        "outputId": "2a1e6222-95bd-476d-c8e5-59cb9c6ba67e"
      },
      "outputs": [
        {
          "name": "stdout",
          "output_type": "stream",
          "text": [
            "使用PCA随机森林分类器训练时间为：120.98s\n"
          ]
        }
      ],
      "source": [
        "import time\n",
        "t2 = time.time()\n",
        "rnd_clf2.fit(X_train_preduced,y_train)\n",
        "t3 = time.time()\n",
        "print(\"使用PCA随机森林分类器训练时间为：{:.2f}s\".format(t3 - t2))"
      ]
    },
    {
      "cell_type": "markdown",
      "metadata": {
        "id": "K4orR8TGq60C"
      },
      "source": [
        "不好了！现在训练实际上慢了两倍！这个怎么可能？好吧，正如我们在本章中看到的，降维并不总是会带来更快的训练时间：它取决于数据集、模型和训练算法。如果您尝试使用 softmax 分类器而不是随机森林分类器，您会发现使用 PCA 时训练时间减少了 3 倍。实际上，我们稍后会这样做，但首先让我们检查新的随机森林分类器的精度。"
      ]
    },
    {
      "cell_type": "code",
      "execution_count": null,
      "metadata": {
        "colab": {
          "base_uri": "https://localhost:8080/"
        },
        "id": "EL5utrgzphQG",
        "outputId": "35d4cd7e-cabc-46ce-b5f6-673e072c1300"
      },
      "outputs": [
        {
          "name": "stdout",
          "output_type": "stream",
          "text": [
            "使用PCA的随机森林预测准确率为： 0.9481\n"
          ]
        }
      ],
      "source": [
        "from sklearn.metrics import accuracy_score\n",
        "X_test_reduced = pca.transform(X_test)\n",
        "y_pred2 = rnd_clf2.predict(X_test_reduced)\n",
        "print(\"使用PCA的随机森林预测准确率为：\",accuracy_score(y_pred2,y_test))"
      ]
    },
    {
      "cell_type": "markdown",
      "metadata": {
        "id": "5vs00x02qrVa"
      },
      "source": [
        "降维时性能略有下降是很常见的，因为我们在这个过程中确实丢失了一些有用的信号。但是，在这种情况下，性能下降相当严重。所以 PCA 确实没有帮助：它减慢了训练速度并降低了性能。"
      ]
    },
    {
      "cell_type": "markdown",
      "metadata": {
        "id": "2AACFg0NrSZJ"
      },
      "source": [
        "使用多元逻辑回归分类器"
      ]
    },
    {
      "cell_type": "code",
      "execution_count": null,
      "metadata": {
        "colab": {
          "background_save": true
        },
        "id": "cdOWZzgurQxK",
        "outputId": "ec90f508-a2cc-499b-aa36-038cd37a26e2"
      },
      "outputs": [
        {
          "name": "stdout",
          "output_type": "stream",
          "text": [
            "Training took 47.00s\n"
          ]
        },
        {
          "name": "stderr",
          "output_type": "stream",
          "text": [
            "/usr/local/lib/python3.7/dist-packages/sklearn/linear_model/_logistic.py:818: ConvergenceWarning: lbfgs failed to converge (status=1):\n",
            "STOP: TOTAL NO. of ITERATIONS REACHED LIMIT.\n",
            "\n",
            "Increase the number of iterations (max_iter) or scale the data as shown in:\n",
            "    https://scikit-learn.org/stable/modules/preprocessing.html\n",
            "Please also refer to the documentation for alternative solver options:\n",
            "    https://scikit-learn.org/stable/modules/linear_model.html#logistic-regression\n",
            "  extra_warning_msg=_LOGISTIC_SOLVER_CONVERGENCE_MSG,\n"
          ]
        }
      ],
      "source": [
        "from sklearn.linear_model import LogisticRegression\n",
        "\n",
        "log_clf = LogisticRegression(multi_class=\"multinomial\", solver=\"lbfgs\", random_state=42)\n",
        "t0 = time.time()\n",
        "log_clf.fit(X_train, y_train)\n",
        "t1 = time.time()\n",
        "\n",
        "print(\"Training took {:.2f}s\".format(t1 - t0))"
      ]
    },
    {
      "cell_type": "code",
      "source": [
        "y_pred = log_clf.predict(X_test)\n",
        "accuracy_score(y_test, y_pred)"
      ],
      "metadata": {
        "colab": {
          "base_uri": "https://localhost:8080/"
        },
        "id": "y5xXH9ewr2vP",
        "outputId": "884f1612-b232-402e-bb55-4d40fb955cc9"
      },
      "execution_count": 24,
      "outputs": [
        {
          "output_type": "execute_result",
          "data": {
            "text/plain": [
              "0.9255"
            ]
          },
          "metadata": {},
          "execution_count": 24
        }
      ]
    },
    {
      "cell_type": "code",
      "source": [
        "log_clf2 = LogisticRegression(multi_class=\"multinomial\", solver=\"lbfgs\", random_state=42)\n",
        "t0 = time.time()\n",
        "log_clf2.fit(X_train_preduced, y_train)\n",
        "t1 = time.time()"
      ],
      "metadata": {
        "colab": {
          "base_uri": "https://localhost:8080/"
        },
        "id": "50gwRtaIr9qZ",
        "outputId": "71b3439f-cb70-4df6-8ea0-90ddd6571b0c"
      },
      "execution_count": 25,
      "outputs": [
        {
          "output_type": "stream",
          "name": "stderr",
          "text": [
            "/usr/local/lib/python3.7/dist-packages/sklearn/linear_model/_logistic.py:818: ConvergenceWarning: lbfgs failed to converge (status=1):\n",
            "STOP: TOTAL NO. of ITERATIONS REACHED LIMIT.\n",
            "\n",
            "Increase the number of iterations (max_iter) or scale the data as shown in:\n",
            "    https://scikit-learn.org/stable/modules/preprocessing.html\n",
            "Please also refer to the documentation for alternative solver options:\n",
            "    https://scikit-learn.org/stable/modules/linear_model.html#logistic-regression\n",
            "  extra_warning_msg=_LOGISTIC_SOLVER_CONVERGENCE_MSG,\n"
          ]
        }
      ]
    },
    {
      "cell_type": "code",
      "source": [
        "print(\"Training took {:.2f}s\".format(t1 - t0))"
      ],
      "metadata": {
        "colab": {
          "base_uri": "https://localhost:8080/"
        },
        "id": "4ypJRRwBr_et",
        "outputId": "a31ebbde-c494-4bf5-e242-306fa6e525fb"
      },
      "execution_count": 26,
      "outputs": [
        {
          "output_type": "stream",
          "name": "stdout",
          "text": [
            "Training took 14.42s\n"
          ]
        }
      ]
    },
    {
      "cell_type": "code",
      "source": [
        "y_pred = log_clf2.predict(X_test_reduced)\n",
        "accuracy_score(y_test, y_pred)"
      ],
      "metadata": {
        "colab": {
          "base_uri": "https://localhost:8080/"
        },
        "id": "koc1etASsBnY",
        "outputId": "fb0c734f-e22b-460d-a191-f1ffb2d9b712"
      },
      "execution_count": 27,
      "outputs": [
        {
          "output_type": "execute_result",
          "data": {
            "text/plain": [
              "0.9201"
            ]
          },
          "metadata": {},
          "execution_count": 27
        }
      ]
    },
    {
      "cell_type": "markdown",
      "source": [
        "性能略有下降，这可能是为 2 倍加速付出的合理代价，具体取决于应用程序。所以你有它：PCA 可以给你一个强大的加速......但并非总是如此！"
      ],
      "metadata": {
        "id": "f3EKEIP3soua"
      }
    }
  ],
  "metadata": {
    "colab": {
      "collapsed_sections": [],
      "toc_visible": true,
      "provenance": [],
      "authorship_tag": "ABX9TyMMiMRjPyEhSvnXkIaymnba",
      "include_colab_link": true
    },
    "kernelspec": {
      "display_name": "Python 3",
      "name": "python3"
    },
    "language_info": {
      "name": "python"
    }
  },
  "nbformat": 4,
  "nbformat_minor": 0
}
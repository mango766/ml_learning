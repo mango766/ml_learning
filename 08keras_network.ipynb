{
  "cells": [
    {
      "cell_type": "markdown",
      "metadata": {
        "id": "view-in-github",
        "colab_type": "text"
      },
      "source": [
        "<a href=\"https://colab.research.google.com/github/mango766/ml_learning/blob/main/08keras_network.ipynb\" target=\"_parent\"><img src=\"https://colab.research.google.com/assets/colab-badge.svg\" alt=\"Open In Colab\"/></a>"
      ]
    },
    {
      "cell_type": "markdown",
      "source": [
        "初始化"
      ],
      "metadata": {
        "id": "ES10UO1p9e1G"
      }
    },
    {
      "cell_type": "code",
      "source": [
        "# Python ≥3.5 is required\n",
        "import sys\n",
        "assert sys.version_info >= (3, 5)\n",
        "\n",
        "# Scikit-Learn ≥0.20 is required\n",
        "import sklearn\n",
        "assert sklearn.__version__ >= \"0.20\"\n",
        "\n",
        "try:\n",
        "    # %tensorflow_version only exists in Colab.\n",
        "    %tensorflow_version 2.x\n",
        "except Exception:\n",
        "    pass\n",
        "\n",
        "# TensorFlow ≥2.0 is required\n",
        "import tensorflow as tf\n",
        "assert tf.__version__ >= \"2.0\"\n",
        "\n",
        "# Common imports\n",
        "import numpy as np\n",
        "import os\n",
        "\n",
        "# to make this notebook's output stable across runs\n",
        "np.random.seed(42)\n",
        "\n",
        "# To plot pretty figures\n",
        "%matplotlib inline\n",
        "import matplotlib as mpl\n",
        "import matplotlib.pyplot as plt\n",
        "mpl.rc('axes', labelsize=14)\n",
        "mpl.rc('xtick', labelsize=12)\n",
        "mpl.rc('ytick', labelsize=12)\n",
        "\n",
        "# Where to save the figures\n",
        "PROJECT_ROOT_DIR = \".\"\n",
        "CHAPTER_ID = \"ann\"\n",
        "IMAGES_PATH = os.path.join(PROJECT_ROOT_DIR, \"images\", CHAPTER_ID)\n",
        "os.makedirs(IMAGES_PATH, exist_ok=True)\n",
        "\n",
        "def save_fig(fig_id, tight_layout=True, fig_extension=\"png\", resolution=300):\n",
        "    path = os.path.join(IMAGES_PATH, fig_id + \".\" + fig_extension)\n",
        "    print(\"Saving figure\", fig_id)\n",
        "    if tight_layout:\n",
        "        plt.tight_layout()\n",
        "    plt.savefig(path, format=fig_extension, dpi=resolution)"
      ],
      "metadata": {
        "colab": {
          "base_uri": "https://localhost:8080/"
        },
        "id": "DwGasfGJ9f0B",
        "outputId": "733b22b7-3eb3-4793-9a90-26acce74c626"
      },
      "execution_count": null,
      "outputs": [
        {
          "output_type": "stream",
          "name": "stdout",
          "text": [
            "Colab only includes TensorFlow 2.x; %tensorflow_version has no effect.\n"
          ]
        }
      ]
    },
    {
      "cell_type": "markdown",
      "metadata": {
        "id": "2_Z72USdmYCE"
      },
      "source": [
        "# 人工神经网络初探--使用keras实现MLP（多层感知机）"
      ]
    },
    {
      "cell_type": "markdown",
      "metadata": {
        "id": "ijf0WxXrmkqp"
      },
      "source": [
        "导入并检测TensorFlow2"
      ]
    },
    {
      "cell_type": "code",
      "execution_count": null,
      "metadata": {
        "id": "jOFC-3ZTmOo2"
      },
      "outputs": [],
      "source": [
        "import tensorflow as tf\n",
        "from tensorflow import keras"
      ]
    },
    {
      "cell_type": "code",
      "execution_count": null,
      "metadata": {
        "id": "Z8dyigkKmXzw",
        "colab": {
          "base_uri": "https://localhost:8080/",
          "height": 35
        },
        "outputId": "dbde9db8-f258-433a-9ba8-6f65ec2fa647"
      },
      "outputs": [
        {
          "output_type": "execute_result",
          "data": {
            "text/plain": [
              "'2.11.0'"
            ],
            "application/vnd.google.colaboratory.intrinsic+json": {
              "type": "string"
            }
          },
          "metadata": {},
          "execution_count": 4
        }
      ],
      "source": [
        "tf.__version__"
      ]
    },
    {
      "cell_type": "markdown",
      "source": [
        "## 使用顺序API构建图像分类器"
      ],
      "metadata": {
        "id": "f6rex8f9Ui6G"
      }
    },
    {
      "cell_type": "markdown",
      "source": [
        "### 加载数据集"
      ],
      "metadata": {
        "id": "1vgvi4R-UykK"
      }
    },
    {
      "cell_type": "code",
      "source": [
        "fashion_mnist = keras.datasets.fashion_mnist\n",
        "(X_train_full, y_train_full), (X_test, y_test) = fashion_mnist.load_data()"
      ],
      "metadata": {
        "id": "rH9yxt6b9AAI",
        "colab": {
          "base_uri": "https://localhost:8080/"
        },
        "outputId": "a5148755-c9db-49ee-8c86-b3fe0ce39e40"
      },
      "execution_count": null,
      "outputs": [
        {
          "output_type": "stream",
          "name": "stdout",
          "text": [
            "Downloading data from https://storage.googleapis.com/tensorflow/tf-keras-datasets/train-labels-idx1-ubyte.gz\n",
            "29515/29515 [==============================] - 0s 0us/step\n",
            "Downloading data from https://storage.googleapis.com/tensorflow/tf-keras-datasets/train-images-idx3-ubyte.gz\n",
            "26421880/26421880 [==============================] - 0s 0us/step\n",
            "Downloading data from https://storage.googleapis.com/tensorflow/tf-keras-datasets/t10k-labels-idx1-ubyte.gz\n",
            "5148/5148 [==============================] - 0s 0us/step\n",
            "Downloading data from https://storage.googleapis.com/tensorflow/tf-keras-datasets/t10k-images-idx3-ubyte.gz\n",
            "4422102/4422102 [==============================] - 0s 0us/step\n"
          ]
        }
      ]
    },
    {
      "cell_type": "code",
      "source": [
        "X_valid, X_train = X_train_full[:5000] / 255., X_train_full[5000:] / 255.\n",
        "y_valid, y_train = y_train_full[:5000], y_train_full[5000:]\n",
        "X_test = X_test / 255."
      ],
      "metadata": {
        "id": "fFERt4HL9WxB"
      },
      "execution_count": null,
      "outputs": []
    },
    {
      "cell_type": "code",
      "source": [
        "plt.imshow(X_train[0], cmap=\"binary\")\n",
        "plt.axis('off')\n",
        "plt.show()"
      ],
      "metadata": {
        "colab": {
          "base_uri": "https://localhost:8080/",
          "height": 248
        },
        "id": "VWVdm0-_9ZQv",
        "outputId": "8382fe28-fed1-497e-dd3b-b3f1eece52f4"
      },
      "execution_count": null,
      "outputs": [
        {
          "output_type": "display_data",
          "data": {
            "text/plain": [
              "<Figure size 432x288 with 1 Axes>"
            ],
            "image/png": "[encoded data removed]"
          },
          "metadata": {
            "needs_background": "light"
          }
        }
      ]
    },
    {
      "cell_type": "code",
      "source": [
        "class_names = [\"T-shirt/top\", \"Trouser\", \"Pullover\", \"Dress\", \"Coat\",\n",
        "               \"Sandal\", \"Shirt\", \"Sneaker\", \"Bag\", \"Ankle boot\"]"
      ],
      "metadata": {
        "id": "PT9UWYqx9oUn"
      },
      "execution_count": null,
      "outputs": []
    },
    {
      "cell_type": "code",
      "source": [
        "n_rows = 4\n",
        "n_cols = 10\n",
        "plt.figure(figsize=(n_cols * 1.2, n_rows * 1.2))\n",
        "for row in range(n_rows):\n",
        "    for col in range(n_cols):\n",
        "        index = n_cols * row + col\n",
        "        plt.subplot(n_rows, n_cols, index + 1)\n",
        "        plt.imshow(X_train[index], cmap=\"binary\", interpolation=\"nearest\")\n",
        "        plt.axis('off')\n",
        "        plt.title(class_names[y_train[index]], fontsize=12)\n",
        "plt.subplots_adjust(wspace=0.2, hspace=0.5)\n",
        "save_fig('fashion_mnist_plot', tight_layout=False)\n",
        "plt.show()"
      ],
      "metadata": {
        "colab": {
          "base_uri": "https://localhost:8080/",
          "height": 326
        },
        "id": "eLnHCCqG9r1X",
        "outputId": "906371ab-aa9c-43b6-884b-7339114ca6ed"
      },
      "execution_count": null,
      "outputs": [
        {
          "output_type": "stream",
          "name": "stdout",
          "text": [
            "Saving figure fashion_mnist_plot\n"
          ]
        },
        {
          "output_type": "display_data",
          "data": {
            "text/plain": [
              "<Figure size 864x345.6 with 40 Axes>"
            ],
            "image/png": "[encoded data removed]"
          },
          "metadata": {
            "needs_background": "light"
          }
        }
      ]
    },
    {
      "cell_type": "markdown",
      "source": [
        "构建神经网络"
      ],
      "metadata": {
        "id": "a3y1ECrs9v09"
      }
    },
    {
      "cell_type": "code",
      "source": [
        "model = keras.models.Sequential()\n",
        "model.add(keras.layers.Flatten(input_shape=[28, 28]))\n",
        "model.add(keras.layers.Dense(300, activation=\"relu\"))\n",
        "model.add(keras.layers.Dense(100, activation=\"relu\"))\n",
        "model.add(keras.layers.Dense(10, activation=\"softmax\"))"
      ],
      "metadata": {
        "id": "AFxtxmNe9x-T"
      },
      "execution_count": null,
      "outputs": []
    },
    {
      "cell_type": "code",
      "source": [
        "model.summary()"
      ],
      "metadata": {
        "colab": {
          "base_uri": "https://localhost:8080/"
        },
        "id": "rb5DYn4a92cw",
        "outputId": "0774ca1e-f21e-4d2d-bdec-02b967d00398"
      },
      "execution_count": null,
      "outputs": [
        {
          "output_type": "stream",
          "name": "stdout",
          "text": [
            "Model: \"sequential\"\n",
            "_________________________________________________________________\n",
            " Layer (type)                Output Shape              Param #   \n",
            "=================================================================\n",
            " flatten (Flatten)           (None, 784)               0         \n",
            "                                                                 \n",
            " dense (Dense)               (None, 300)               235500    \n",
            "                                                                 \n",
            " dense_1 (Dense)             (None, 100)               30100     \n",
            "                                                                 \n",
            " dense_2 (Dense)             (None, 10)                1010      \n",
            "                                                                 \n",
            "=================================================================\n",
            "Total params: 266,610\n",
            "Trainable params: 266,610\n",
            "Non-trainable params: 0\n",
            "_________________________________________________________________\n"
          ]
        }
      ]
    },
    {
      "cell_type": "markdown",
      "source": [
        "显示层数"
      ],
      "metadata": {
        "id": "ORYJtJts-DBG"
      }
    },
    {
      "cell_type": "code",
      "source": [
        "keras.utils.plot_model(model, \"my_fashion_mnist_model.png\", show_shapes=True)"
      ],
      "metadata": {
        "colab": {
          "base_uri": "https://localhost:8080/",
          "height": 533
        },
        "id": "TOLJ-y8S9_vs",
        "outputId": "fd549158-300d-482b-fc24-989a37e0668c"
      },
      "execution_count": null,
      "outputs": [
        {
          "output_type": "execute_result",
          "data": {
            "image/png": "[encoded data removed]",
            "text/plain": [
              "<IPython.core.display.Image object>"
            ]
          },
          "metadata": {},
          "execution_count": 13
        }
      ]
    },
    {
      "cell_type": "code",
      "source": [
        "hidden1 = model.layers[1]\n",
        "hidden1.name"
      ],
      "metadata": {
        "colab": {
          "base_uri": "https://localhost:8080/",
          "height": 35
        },
        "id": "W7UjEpXx-IiE",
        "outputId": "89b5d269-6be3-4d7e-a4a5-74f4b1ee4386"
      },
      "execution_count": null,
      "outputs": [
        {
          "output_type": "execute_result",
          "data": {
            "text/plain": [
              "'dense'"
            ],
            "application/vnd.google.colaboratory.intrinsic+json": {
              "type": "string"
            }
          },
          "metadata": {},
          "execution_count": 14
        }
      ]
    },
    {
      "cell_type": "markdown",
      "source": [
        "### 编译模型"
      ],
      "metadata": {
        "id": "KWsWIDbO-U4u"
      }
    },
    {
      "cell_type": "code",
      "source": [
        "model.compile(loss=\"sparse_categorical_crossentropy\",\n",
        "              optimizer=\"sgd\",\n",
        "              metrics=[\"accuracy\"])"
      ],
      "metadata": {
        "id": "ZmfDBkVG-UQT"
      },
      "execution_count": null,
      "outputs": []
    },
    {
      "cell_type": "markdown",
      "source": [
        "模型.编译（损失=“sparse_categorical_crossentropy”，优化器=“sgd”，指标=[“准确性”]）"
      ],
      "metadata": {
        "id": "sUOqDu5l-gjW"
      }
    },
    {
      "cell_type": "markdown",
      "source": [
        "### 训练和评估模型"
      ],
      "metadata": {
        "id": "joPuE4x1__3s"
      }
    },
    {
      "cell_type": "markdown",
      "source": [
        "epochs,轮转次数，默认为1，这通常不足以收敛为一个好的模型"
      ],
      "metadata": {
        "id": "GUK2QsHOAvPe"
      }
    },
    {
      "cell_type": "code",
      "source": [
        "history = model.fit(X_train,y_train,epochs=30,validation_data=(X_valid,y_valid))"
      ],
      "metadata": {
        "colab": {
          "base_uri": "https://localhost:8080/"
        },
        "id": "QogOuY0qADdJ",
        "outputId": "c44c0d6e-fc0c-4cf1-e36a-5b54a5d42050"
      },
      "execution_count": null,
      "outputs": [
        {
          "output_type": "stream",
          "name": "stdout",
          "text": [
            "Epoch 1/30\n",
            "1719/1719 [==============================] - 13s 7ms/step - loss: 0.7056 - accuracy: 0.7679 - val_loss: 0.5096 - val_accuracy: 0.8340\n",
            "Epoch 2/30\n",
            "1719/1719 [==============================] - 12s 7ms/step - loss: 0.4843 - accuracy: 0.8321 - val_loss: 0.4375 - val_accuracy: 0.8458\n",
            "Epoch 3/30\n",
            "1719/1719 [==============================] - 15s 9ms/step - loss: 0.4401 - accuracy: 0.8469 - val_loss: 0.4157 - val_accuracy: 0.8582\n",
            "Epoch 4/30\n",
            "1719/1719 [==============================] - 12s 7ms/step - loss: 0.4125 - accuracy: 0.8560 - val_loss: 0.4119 - val_accuracy: 0.8528\n",
            "Epoch 5/30\n",
            "1719/1719 [==============================] - 14s 8ms/step - loss: 0.3930 - accuracy: 0.8622 - val_loss: 0.3933 - val_accuracy: 0.8662\n",
            "Epoch 6/30\n",
            "1719/1719 [==============================] - 15s 9ms/step - loss: 0.3777 - accuracy: 0.8669 - val_loss: 0.3707 - val_accuracy: 0.8734\n",
            "Epoch 7/30\n",
            "1719/1719 [==============================] - 14s 8ms/step - loss: 0.3641 - accuracy: 0.8707 - val_loss: 0.3846 - val_accuracy: 0.8640\n",
            "Epoch 8/30\n",
            "1719/1719 [==============================] - 14s 8ms/step - loss: 0.3530 - accuracy: 0.8758 - val_loss: 0.3590 - val_accuracy: 0.8732\n",
            "Epoch 9/30\n",
            "1719/1719 [==============================] - 12s 7ms/step - loss: 0.3422 - accuracy: 0.8785 - val_loss: 0.3572 - val_accuracy: 0.8770\n",
            "Epoch 10/30\n",
            "1719/1719 [==============================] - 11s 6ms/step - loss: 0.3332 - accuracy: 0.8810 - val_loss: 0.3464 - val_accuracy: 0.8798\n",
            "Epoch 11/30\n",
            "1719/1719 [==============================] - 12s 7ms/step - loss: 0.3244 - accuracy: 0.8853 - val_loss: 0.3491 - val_accuracy: 0.8746\n",
            "Epoch 12/30\n",
            "1719/1719 [==============================] - 13s 8ms/step - loss: 0.3167 - accuracy: 0.8875 - val_loss: 0.3530 - val_accuracy: 0.8714\n",
            "Epoch 13/30\n",
            "1719/1719 [==============================] - 11s 6ms/step - loss: 0.3094 - accuracy: 0.8897 - val_loss: 0.3415 - val_accuracy: 0.8800\n",
            "Epoch 14/30\n",
            "1719/1719 [==============================] - 11s 6ms/step - loss: 0.3014 - accuracy: 0.8922 - val_loss: 0.3334 - val_accuracy: 0.8798\n",
            "Epoch 15/30\n",
            "1719/1719 [==============================] - 11s 7ms/step - loss: 0.2958 - accuracy: 0.8938 - val_loss: 0.3258 - val_accuracy: 0.8876\n",
            "Epoch 16/30\n",
            "1719/1719 [==============================] - 13s 7ms/step - loss: 0.2896 - accuracy: 0.8957 - val_loss: 0.3183 - val_accuracy: 0.8898\n",
            "Epoch 17/30\n",
            "1719/1719 [==============================] - 12s 7ms/step - loss: 0.2840 - accuracy: 0.8978 - val_loss: 0.3178 - val_accuracy: 0.8884\n",
            "Epoch 18/30\n",
            "1719/1719 [==============================] - 11s 7ms/step - loss: 0.2786 - accuracy: 0.8996 - val_loss: 0.3099 - val_accuracy: 0.8912\n",
            "Epoch 19/30\n",
            "1719/1719 [==============================] - 12s 7ms/step - loss: 0.2729 - accuracy: 0.9020 - val_loss: 0.3082 - val_accuracy: 0.8906\n",
            "Epoch 20/30\n",
            "1719/1719 [==============================] - 11s 6ms/step - loss: 0.2682 - accuracy: 0.9031 - val_loss: 0.3095 - val_accuracy: 0.8900\n",
            "Epoch 21/30\n",
            "1719/1719 [==============================] - 12s 7ms/step - loss: 0.2633 - accuracy: 0.9056 - val_loss: 0.3259 - val_accuracy: 0.8822\n",
            "Epoch 22/30\n",
            "1719/1719 [==============================] - 11s 7ms/step - loss: 0.2582 - accuracy: 0.9070 - val_loss: 0.3112 - val_accuracy: 0.8906\n",
            "Epoch 23/30\n",
            "1719/1719 [==============================] - 10s 6ms/step - loss: 0.2536 - accuracy: 0.9074 - val_loss: 0.3120 - val_accuracy: 0.8892\n",
            "Epoch 24/30\n",
            "1719/1719 [==============================] - 11s 6ms/step - loss: 0.2488 - accuracy: 0.9106 - val_loss: 0.3352 - val_accuracy: 0.8812\n",
            "Epoch 25/30\n",
            "1719/1719 [==============================] - 11s 6ms/step - loss: 0.2451 - accuracy: 0.9116 - val_loss: 0.3088 - val_accuracy: 0.8922\n",
            "Epoch 26/30\n",
            "1719/1719 [==============================] - 11s 6ms/step - loss: 0.2406 - accuracy: 0.9123 - val_loss: 0.2985 - val_accuracy: 0.8948\n",
            "Epoch 27/30\n",
            "1719/1719 [==============================] - 11s 7ms/step - loss: 0.2372 - accuracy: 0.9141 - val_loss: 0.3009 - val_accuracy: 0.8956\n",
            "Epoch 28/30\n",
            "1719/1719 [==============================] - 11s 6ms/step - loss: 0.2316 - accuracy: 0.9164 - val_loss: 0.3688 - val_accuracy: 0.8652\n",
            "Epoch 29/30\n",
            "1719/1719 [==============================] - 12s 7ms/step - loss: 0.2292 - accuracy: 0.9165 - val_loss: 0.2957 - val_accuracy: 0.8930\n",
            "Epoch 30/30\n",
            "1719/1719 [==============================] - 11s 6ms/step - loss: 0.2261 - accuracy: 0.9183 - val_loss: 0.3189 - val_accuracy: 0.8838\n"
          ]
        }
      ]
    },
    {
      "cell_type": "markdown",
      "source": [
        "训练模型的参数"
      ],
      "metadata": {
        "id": "SN7DaR4BCIg_"
      }
    },
    {
      "cell_type": "code",
      "source": [
        "print(history.params)\n",
        "print(history.epoch)\n",
        "print(history.history.keys())"
      ],
      "metadata": {
        "colab": {
          "base_uri": "https://localhost:8080/"
        },
        "id": "rPIJxnLfCQEB",
        "outputId": "5cf10f39-c692-4cc1-b5ed-137231782fda"
      },
      "execution_count": null,
      "outputs": [
        {
          "output_type": "stream",
          "name": "stdout",
          "text": [
            "{'verbose': 1, 'epochs': 30, 'steps': 1719}\n",
            "[0, 1, 2, 3, 4, 5, 6, 7, 8, 9, 10, 11, 12, 13, 14, 15, 16, 17, 18, 19, 20, 21, 22, 23, 24, 25, 26, 27, 28, 29]\n",
            "dict_keys(['loss', 'accuracy', 'val_loss', 'val_accuracy'])\n"
          ]
        }
      ]
    },
    {
      "cell_type": "code",
      "source": [
        "history.history"
      ],
      "metadata": {
        "id": "J5uwuMJvC9rU"
      },
      "execution_count": null,
      "outputs": []
    },
    {
      "cell_type": "code",
      "source": [
        "type(history)"
      ],
      "metadata": {
        "colab": {
          "base_uri": "https://localhost:8080/"
        },
        "id": "th5FW558DLmg",
        "outputId": "b11f1933-6d76-42a2-f9e0-7f98ee4518c9"
      },
      "execution_count": null,
      "outputs": [
        {
          "output_type": "execute_result",
          "data": {
            "text/plain": [
              "keras.callbacks.History"
            ]
          },
          "metadata": {},
          "execution_count": 21
        }
      ]
    },
    {
      "cell_type": "markdown",
      "source": [
        "将dict数据转换为pd，并显示"
      ],
      "metadata": {
        "id": "yxHm8NS3EBvB"
      }
    },
    {
      "cell_type": "code",
      "source": [
        "import pandas as pd\n",
        "pd.DataFrame(history.history)"
      ],
      "metadata": {
        "colab": {
          "base_uri": "https://localhost:8080/",
          "height": 990
        },
        "id": "6c7PJyRgELfJ",
        "outputId": "b2ac19d6-6e46-4e93-894f-144194fcade3"
      },
      "execution_count": null,
      "outputs": [
        {
          "output_type": "execute_result",
          "data": {
            "text/plain": [
              "        loss  accuracy  val_loss  val_accuracy\n",
              "0   0.705630  0.767873  0.509577        0.8340\n",
              "1   0.484270  0.832091  0.437495        0.8458\n",
              "2   0.440150  0.846909  0.415671        0.8582\n",
              "3   0.412494  0.855982  0.411931        0.8528\n",
              "4   0.392978  0.862218  0.393339        0.8662\n",
              "5   0.377718  0.866945  0.370719        0.8734\n",
              "6   0.364077  0.870709  0.384612        0.8640\n",
              "7   0.353047  0.875800  0.359026        0.8732\n",
              "8   0.342164  0.878509  0.357210        0.8770\n",
              "9   0.333191  0.881036  0.346449        0.8798\n",
              "10  0.324438  0.885327  0.349081        0.8746\n",
              "11  0.316743  0.887509  0.353037        0.8714\n",
              "12  0.309415  0.889727  0.341504        0.8800\n",
              "13  0.301368  0.892182  0.333381        0.8798\n",
              "14  0.295821  0.893782  0.325781        0.8876\n",
              "15  0.289640  0.895709  0.318313        0.8898\n",
              "16  0.283954  0.897836  0.317810        0.8884\n",
              "17  0.278550  0.899564  0.309864        0.8912\n",
              "18  0.272910  0.901964  0.308224        0.8906\n",
              "19  0.268167  0.903055  0.309530        0.8900\n",
              "20  0.263306  0.905636  0.325854        0.8822\n",
              "21  0.258157  0.907018  0.311203        0.8906\n",
              "22  0.253624  0.907418  0.312012        0.8892\n",
              "23  0.248751  0.910564  0.335200        0.8812\n",
              "24  0.245099  0.911636  0.308809        0.8922\n",
              "25  0.240643  0.912345  0.298547        0.8948\n",
              "26  0.237221  0.914073  0.300935        0.8956\n",
              "27  0.231596  0.916382  0.368762        0.8652\n",
              "28  0.229195  0.916545  0.295748        0.8930\n",
              "29  0.226105  0.918291  0.318852        0.8838"
            ],
            "text/html": [
              "\n",
              "  <div id=\"df-21853a4c-7df8-4122-9dc8-32f878c570c1\">\n",
              "    <div class=\"colab-df-container\">\n",
              "      <div>\n",
              "<style scoped>\n",
              "    .dataframe tbody tr th:only-of-type {\n",
              "        vertical-align: middle;\n",
              "    }\n",
              "\n",
              "    .dataframe tbody tr th {\n",
              "        vertical-align: top;\n",
              "    }\n",
              "\n",
              "    .dataframe thead th {\n",
              "        text-align: right;\n",
              "    }\n",
              "</style>\n",
              "<table border=\"1\" class=\"dataframe\">\n",
              "  <thead>\n",
              "    <tr style=\"text-align: right;\">\n",
              "      <th></th>\n",
              "      <th>loss</th>\n",
              "      <th>accuracy</th>\n",
              "      <th>val_loss</th>\n",
              "      <th>val_accuracy</th>\n",
              "    </tr>\n",
              "  </thead>\n",
              "  <tbody>\n",
              "    <tr>\n",
              "      <th>0</th>\n",
              "      <td>0.705630</td>\n",
              "      <td>0.767873</td>\n",
              "      <td>0.509577</td>\n",
              "      <td>0.8340</td>\n",
              "    </tr>\n",
              "    <tr>\n",
              "      <th>1</th>\n",
              "      <td>0.484270</td>\n",
              "      <td>0.832091</td>\n",
              "      <td>0.437495</td>\n",
              "      <td>0.8458</td>\n",
              "    </tr>\n",
              "    <tr>\n",
              "      <th>2</th>\n",
              "      <td>0.440150</td>\n",
              "      <td>0.846909</td>\n",
              "      <td>0.415671</td>\n",
              "      <td>0.8582</td>\n",
              "    </tr>\n",
              "    <tr>\n",
              "      <th>3</th>\n",
              "      <td>0.412494</td>\n",
              "      <td>0.855982</td>\n",
              "      <td>0.411931</td>\n",
              "      <td>0.8528</td>\n",
              "    </tr>\n",
              "    <tr>\n",
              "      <th>4</th>\n",
              "      <td>0.392978</td>\n",
              "      <td>0.862218</td>\n",
              "      <td>0.393339</td>\n",
              "      <td>0.8662</td>\n",
              "    </tr>\n",
              "    <tr>\n",
              "      <th>5</th>\n",
              "      <td>0.377718</td>\n",
              "      <td>0.866945</td>\n",
              "      <td>0.370719</td>\n",
              "      <td>0.8734</td>\n",
              "    </tr>\n",
              "    <tr>\n",
              "      <th>6</th>\n",
              "      <td>0.364077</td>\n",
              "      <td>0.870709</td>\n",
              "      <td>0.384612</td>\n",
              "      <td>0.8640</td>\n",
              "    </tr>\n",
              "    <tr>\n",
              "      <th>7</th>\n",
              "      <td>0.353047</td>\n",
              "      <td>0.875800</td>\n",
              "      <td>0.359026</td>\n",
              "      <td>0.8732</td>\n",
              "    </tr>\n",
              "    <tr>\n",
              "      <th>8</th>\n",
              "      <td>0.342164</td>\n",
              "      <td>0.878509</td>\n",
              "      <td>0.357210</td>\n",
              "      <td>0.8770</td>\n",
              "    </tr>\n",
              "    <tr>\n",
              "      <th>9</th>\n",
              "      <td>0.333191</td>\n",
              "      <td>0.881036</td>\n",
              "      <td>0.346449</td>\n",
              "      <td>0.8798</td>\n",
              "    </tr>\n",
              "    <tr>\n",
              "      <th>10</th>\n",
              "      <td>0.324438</td>\n",
              "      <td>0.885327</td>\n",
              "      <td>0.349081</td>\n",
              "      <td>0.8746</td>\n",
              "    </tr>\n",
              "    <tr>\n",
              "      <th>11</th>\n",
              "      <td>0.316743</td>\n",
              "      <td>0.887509</td>\n",
              "      <td>0.353037</td>\n",
              "      <td>0.8714</td>\n",
              "    </tr>\n",
              "    <tr>\n",
              "      <th>12</th>\n",
              "      <td>0.309415</td>\n",
              "      <td>0.889727</td>\n",
              "      <td>0.341504</td>\n",
              "      <td>0.8800</td>\n",
              "    </tr>\n",
              "    <tr>\n",
              "      <th>13</th>\n",
              "      <td>0.301368</td>\n",
              "      <td>0.892182</td>\n",
              "      <td>0.333381</td>\n",
              "      <td>0.8798</td>\n",
              "    </tr>\n",
              "    <tr>\n",
              "      <th>14</th>\n",
              "      <td>0.295821</td>\n",
              "      <td>0.893782</td>\n",
              "      <td>0.325781</td>\n",
              "      <td>0.8876</td>\n",
              "    </tr>\n",
              "    <tr>\n",
              "      <th>15</th>\n",
              "      <td>0.289640</td>\n",
              "      <td>0.895709</td>\n",
              "      <td>0.318313</td>\n",
              "      <td>0.8898</td>\n",
              "    </tr>\n",
              "    <tr>\n",
              "      <th>16</th>\n",
              "      <td>0.283954</td>\n",
              "      <td>0.897836</td>\n",
              "      <td>0.317810</td>\n",
              "      <td>0.8884</td>\n",
              "    </tr>\n",
              "    <tr>\n",
              "      <th>17</th>\n",
              "      <td>0.278550</td>\n",
              "      <td>0.899564</td>\n",
              "      <td>0.309864</td>\n",
              "      <td>0.8912</td>\n",
              "    </tr>\n",
              "    <tr>\n",
              "      <th>18</th>\n",
              "      <td>0.272910</td>\n",
              "      <td>0.901964</td>\n",
              "      <td>0.308224</td>\n",
              "      <td>0.8906</td>\n",
              "    </tr>\n",
              "    <tr>\n",
              "      <th>19</th>\n",
              "      <td>0.268167</td>\n",
              "      <td>0.903055</td>\n",
              "      <td>0.309530</td>\n",
              "      <td>0.8900</td>\n",
              "    </tr>\n",
              "    <tr>\n",
              "      <th>20</th>\n",
              "      <td>0.263306</td>\n",
              "      <td>0.905636</td>\n",
              "      <td>0.325854</td>\n",
              "      <td>0.8822</td>\n",
              "    </tr>\n",
              "    <tr>\n",
              "      <th>21</th>\n",
              "      <td>0.258157</td>\n",
              "      <td>0.907018</td>\n",
              "      <td>0.311203</td>\n",
              "      <td>0.8906</td>\n",
              "    </tr>\n",
              "    <tr>\n",
              "      <th>22</th>\n",
              "      <td>0.253624</td>\n",
              "      <td>0.907418</td>\n",
              "      <td>0.312012</td>\n",
              "      <td>0.8892</td>\n",
              "    </tr>\n",
              "    <tr>\n",
              "      <th>23</th>\n",
              "      <td>0.248751</td>\n",
              "      <td>0.910564</td>\n",
              "      <td>0.335200</td>\n",
              "      <td>0.8812</td>\n",
              "    </tr>\n",
              "    <tr>\n",
              "      <th>24</th>\n",
              "      <td>0.245099</td>\n",
              "      <td>0.911636</td>\n",
              "      <td>0.308809</td>\n",
              "      <td>0.8922</td>\n",
              "    </tr>\n",
              "    <tr>\n",
              "      <th>25</th>\n",
              "      <td>0.240643</td>\n",
              "      <td>0.912345</td>\n",
              "      <td>0.298547</td>\n",
              "      <td>0.8948</td>\n",
              "    </tr>\n",
              "    <tr>\n",
              "      <th>26</th>\n",
              "      <td>0.237221</td>\n",
              "      <td>0.914073</td>\n",
              "      <td>0.300935</td>\n",
              "      <td>0.8956</td>\n",
              "    </tr>\n",
              "    <tr>\n",
              "      <th>27</th>\n",
              "      <td>0.231596</td>\n",
              "      <td>0.916382</td>\n",
              "      <td>0.368762</td>\n",
              "      <td>0.8652</td>\n",
              "    </tr>\n",
              "    <tr>\n",
              "      <th>28</th>\n",
              "      <td>0.229195</td>\n",
              "      <td>0.916545</td>\n",
              "      <td>0.295748</td>\n",
              "      <td>0.8930</td>\n",
              "    </tr>\n",
              "    <tr>\n",
              "      <th>29</th>\n",
              "      <td>0.226105</td>\n",
              "      <td>0.918291</td>\n",
              "      <td>0.318852</td>\n",
              "      <td>0.8838</td>\n",
              "    </tr>\n",
              "  </tbody>\n",
              "</table>\n",
              "</div>\n",
              "      <button class=\"colab-df-convert\" onclick=\"convertToInteractive('df-21853a4c-7df8-4122-9dc8-32f878c570c1')\"\n",
              "              title=\"Convert this dataframe to an interactive table.\"\n",
              "              style=\"display:none;\">\n",
              "        \n",
              "  <svg xmlns=\"http://www.w3.org/2000/svg\" height=\"24px\"viewBox=\"0 0 24 24\"\n",
              "       width=\"24px\">\n",
              "    <path d=\"M0 0h24v24H0V0z\" fill=\"none\"/>\n",
              "    <path d=\"M18.56 5.44l.94 2.06.94-2.06 2.06-.94-2.06-.94-.94-2.06-.94 2.06-2.06.94zm-11 1L8.5 8.5l.94-2.06 2.06-.94-2.06-.94L8.5 2.5l-.94 2.06-2.06.94zm10 10l.94 2.06.94-2.06 2.06-.94-2.06-.94-.94-2.06-.94 2.06-2.06.94z\"/><path d=\"M17.41 7.96l-1.37-1.37c-.4-.4-.92-.59-1.43-.59-.52 0-1.04.2-1.43.59L10.3 9.45l-7.72 7.72c-.78.78-.78 2.05 0 2.83L4 21.41c.39.39.9.59 1.41.59.51 0 1.02-.2 1.41-.59l7.78-7.78 2.81-2.81c.8-.78.8-2.07 0-2.86zM5.41 20L4 18.59l7.72-7.72 1.47 1.35L5.41 20z\"/>\n",
              "  </svg>\n",
              "      </button>\n",
              "      \n",
              "  <style>\n",
              "    .colab-df-container {\n",
              "      display:flex;\n",
              "      flex-wrap:wrap;\n",
              "      gap: 12px;\n",
              "    }\n",
              "\n",
              "    .colab-df-convert {\n",
              "      background-color: #E8F0FE;\n",
              "      border: none;\n",
              "      border-radius: 50%;\n",
              "      cursor: pointer;\n",
              "      display: none;\n",
              "      fill: #1967D2;\n",
              "      height: 32px;\n",
              "      padding: 0 0 0 0;\n",
              "      width: 32px;\n",
              "    }\n",
              "\n",
              "    .colab-df-convert:hover {\n",
              "      background-color: #E2EBFA;\n",
              "      box-shadow: 0px 1px 2px rgba(60, 64, 67, 0.3), 0px 1px 3px 1px rgba(60, 64, 67, 0.15);\n",
              "      fill: #174EA6;\n",
              "    }\n",
              "\n",
              "    [theme=dark] .colab-df-convert {\n",
              "      background-color: #3B4455;\n",
              "      fill: #D2E3FC;\n",
              "    }\n",
              "\n",
              "    [theme=dark] .colab-df-convert:hover {\n",
              "      background-color: #434B5C;\n",
              "      box-shadow: 0px 1px 3px 1px rgba(0, 0, 0, 0.15);\n",
              "      filter: drop-shadow(0px 1px 2px rgba(0, 0, 0, 0.3));\n",
              "      fill: #FFFFFF;\n",
              "    }\n",
              "  </style>\n",
              "\n",
              "      <script>\n",
              "        const buttonEl =\n",
              "          document.querySelector('#df-21853a4c-7df8-4122-9dc8-32f878c570c1 button.colab-df-convert');\n",
              "        buttonEl.style.display =\n",
              "          google.colab.kernel.accessAllowed ? 'block' : 'none';\n",
              "\n",
              "        async function convertToInteractive(key) {\n",
              "          const element = document.querySelector('#df-21853a4c-7df8-4122-9dc8-32f878c570c1');\n",
              "          const dataTable =\n",
              "            await google.colab.kernel.invokeFunction('convertToInteractive',\n",
              "                                                     [key], {});\n",
              "          if (!dataTable) return;\n",
              "\n",
              "          const docLinkHtml = 'Like what you see? Visit the ' +\n",
              "            '<a target=\"_blank\" href=https://colab.research.google.com/notebooks/data_table.ipynb>data table notebook</a>'\n",
              "            + ' to learn more about interactive tables.';\n",
              "          element.innerHTML = '';\n",
              "          dataTable['output_type'] = 'display_data';\n",
              "          await google.colab.output.renderOutput(dataTable, element);\n",
              "          const docLink = document.createElement('div');\n",
              "          docLink.innerHTML = docLinkHtml;\n",
              "          element.appendChild(docLink);\n",
              "        }\n",
              "      </script>\n",
              "    </div>\n",
              "  </div>\n",
              "  "
            ]
          },
          "metadata": {},
          "execution_count": 22
        }
      ]
    },
    {
      "cell_type": "markdown",
      "source": [
        "将pd类型数据画出来"
      ],
      "metadata": {
        "id": "ueTR1P1xEYY0"
      }
    },
    {
      "cell_type": "code",
      "source": [
        "pd.DataFrame(history.history).plot()"
      ],
      "metadata": {
        "colab": {
          "base_uri": "https://localhost:8080/",
          "height": 286
        },
        "id": "k-o9gDFpEcit",
        "outputId": "5de906c2-95f8-4923-c765-8ca8fc3377ed"
      },
      "execution_count": null,
      "outputs": [
        {
          "output_type": "execute_result",
          "data": {
            "text/plain": [
              "<AxesSubplot:>"
            ]
          },
          "metadata": {},
          "execution_count": 23
        },
        {
          "output_type": "display_data",
          "data": {
            "text/plain": [
              "<Figure size 432x288 with 1 Axes>"
            ],
            "image/png": "[encoded data removed]"
          },
          "metadata": {
            "needs_background": "light"
          }
        }
      ]
    },
    {
      "cell_type": "markdown",
      "source": [
        "设置其他参数"
      ],
      "metadata": {
        "id": "0pF1TT5wFgyc"
      }
    },
    {
      "cell_type": "markdown",
      "source": [
        "具体来说，它首先将Keras模型的训练历史记录（即history.history）转换为一个Pandas DataFrame，并使用plot()方法绘制学习曲线。然后，它使用grid(True)方法添加网格线，使用gca().set_ylim(0,1)方法设置y轴的范围为0到1，以确保曲线可以完全显示。最后，它使用save_fig()方法将图像保存到本地磁盘，然后使用show()方法显示图像。"
      ],
      "metadata": {
        "id": "EVNChZmqGJxk"
      }
    },
    {
      "cell_type": "code",
      "source": [
        "pd.DataFrame(history.history).plot(figsize=(8,5))\n",
        "plt.grid(True)\n",
        "plt.gca().set_ylim(0, 1)\n",
        "save_fig(\"keras_learning_curves_plot\")\n",
        "plt.show()"
      ],
      "metadata": {
        "colab": {
          "base_uri": "https://localhost:8080/",
          "height": 387
        },
        "id": "E85WSy7_FlF1",
        "outputId": "9eaa3cae-cdda-42d7-f945-b6fd5f61163a"
      },
      "execution_count": null,
      "outputs": [
        {
          "output_type": "stream",
          "name": "stdout",
          "text": [
            "Saving figure keras_learning_curves_plot\n"
          ]
        },
        {
          "output_type": "display_data",
          "data": {
            "text/plain": [
              "<Figure size 576x360 with 1 Axes>"
            ],
            "image/png": "[encoded data removed]"
          },
          "metadata": {
            "needs_background": "light"
          }
        }
      ]
    },
    {
      "cell_type": "markdown",
      "source": [
        "由于验证误差是在每个轮次结束时计算的，而训练误差是在每个轮次运行平均值计算的，因此应当将训练时的曲线向左移动半个轮次"
      ],
      "metadata": {
        "id": "hD3L6gFZNGBr"
      }
    },
    {
      "cell_type": "code",
      "source": [
        "df1 = pd.DataFrame(history.history)"
      ],
      "metadata": {
        "id": "RG9wGXUbI5kq"
      },
      "execution_count": null,
      "outputs": []
    },
    {
      "cell_type": "markdown",
      "source": [
        "访问第一列数据\n",
        "first_column = df.iloc[:, 0]"
      ],
      "metadata": {
        "id": "ADWh2k1UJynG"
      }
    },
    {
      "cell_type": "code",
      "source": [
        "plt.plot(figsize=(8,5))\n",
        "plt.plot(np.arange(30)-0.5,df1.iloc[:, 0])\n",
        "plt.plot(np.arange(30)-0.5,df1.iloc[:, 1])\n",
        "plt.plot(np.arange(30),df1.iloc[:, 2])\n",
        "plt.plot(np.arange(30),df1.iloc[:, 3])\n",
        "\n",
        "plt.grid(True)\n",
        "plt.gca().set_ylim(0, 1)\n",
        "plt.show()"
      ],
      "metadata": {
        "colab": {
          "base_uri": "https://localhost:8080/",
          "height": 273
        },
        "id": "5NRn_B8KOBmj",
        "outputId": "68647172-eb70-4f69-ba87-46b1185775a4"
      },
      "execution_count": null,
      "outputs": [
        {
          "output_type": "display_data",
          "data": {
            "text/plain": [
              "<Figure size 432x288 with 1 Axes>"
            ],
            "image/png": "[encoded data removed]"
          },
          "metadata": {
            "needs_background": "light"
          }
        }
      ]
    },
    {
      "cell_type": "markdown",
      "source": [
        "### 测试集评估"
      ],
      "metadata": {
        "id": "jdiY2LsAQOlz"
      }
    },
    {
      "cell_type": "code",
      "source": [
        "model.evaluate(X_test,y_test)"
      ],
      "metadata": {
        "colab": {
          "base_uri": "https://localhost:8080/"
        },
        "id": "quY-Dwa_QOGu",
        "outputId": "4bd245df-9043-434c-b82f-1679c95937c3"
      },
      "execution_count": null,
      "outputs": [
        {
          "output_type": "stream",
          "name": "stdout",
          "text": [
            "313/313 [==============================] - 1s 4ms/step - loss: 0.3493 - accuracy: 0.8761\n"
          ]
        },
        {
          "output_type": "execute_result",
          "data": {
            "text/plain": [
              "[0.34925565123558044, 0.8761000037193298]"
            ]
          },
          "metadata": {},
          "execution_count": 51
        }
      ]
    },
    {
      "cell_type": "markdown",
      "source": [
        "### 使用模型进行预测\n"
      ],
      "metadata": {
        "id": "A94KpBNoQvDy"
      }
    },
    {
      "cell_type": "code",
      "source": [
        "X_new = X_test[:3]\n",
        "y_proba = model.predict(X_new)\n",
        "y_proba.round(2)"
      ],
      "metadata": {
        "colab": {
          "base_uri": "https://localhost:8080/"
        },
        "id": "vse-JNIwQ1X-",
        "outputId": "c285bd9b-66cb-40c8-9f04-f60a6ba6b7ba"
      },
      "execution_count": null,
      "outputs": [
        {
          "output_type": "stream",
          "name": "stdout",
          "text": [
            "1/1 [==============================] - 0s 51ms/step\n"
          ]
        },
        {
          "output_type": "execute_result",
          "data": {
            "text/plain": [
              "array([[0.  , 0.  , 0.  , 0.  , 0.  , 0.  , 0.  , 0.02, 0.  , 0.98],\n",
              "       [0.  , 0.  , 0.99, 0.  , 0.  , 0.  , 0.  , 0.  , 0.  , 0.  ],\n",
              "       [0.  , 1.  , 0.  , 0.  , 0.  , 0.  , 0.  , 0.  , 0.  , 0.  ]],\n",
              "      dtype=float32)"
            ]
          },
          "metadata": {},
          "execution_count": 53
        }
      ]
    },
    {
      "cell_type": "markdown",
      "source": [
        "y_proba.round(2)是一个对y_proba进行四舍五入保留两位小数的操作。\n",
        "\n",
        "输出的是九个类的概率"
      ],
      "metadata": {
        "id": "6dX-lStvRslZ"
      }
    },
    {
      "cell_type": "code",
      "source": [
        "# y_pred = model.predict_classes(X_new),已经被弃用\n",
        "y_pred = np.argmax(model.predict(X_new), axis=-1)\n",
        "y_pred"
      ],
      "metadata": {
        "colab": {
          "base_uri": "https://localhost:8080/"
        },
        "id": "MPtE_gOJRi6M",
        "outputId": "d39ae45f-b8cf-4829-b767-3fc1a68ada13"
      },
      "execution_count": null,
      "outputs": [
        {
          "output_type": "stream",
          "name": "stdout",
          "text": [
            "1/1 [==============================] - 0s 53ms/step\n"
          ]
        },
        {
          "output_type": "execute_result",
          "data": {
            "text/plain": [
              "array([9, 2, 1])"
            ]
          },
          "metadata": {},
          "execution_count": 55
        }
      ]
    },
    {
      "cell_type": "code",
      "source": [
        "y_new = y_test[:3]\n",
        "y_new"
      ],
      "metadata": {
        "colab": {
          "base_uri": "https://localhost:8080/"
        },
        "id": "DSH1bz2nT1Y4",
        "outputId": "8b49b8bb-8903-4457-d60a-d3f344ff613d"
      },
      "execution_count": null,
      "outputs": [
        {
          "output_type": "execute_result",
          "data": {
            "text/plain": [
              "array([9, 2, 1], dtype=uint8)"
            ]
          },
          "metadata": {},
          "execution_count": 57
        }
      ]
    },
    {
      "cell_type": "markdown",
      "source": [
        "发现预测对了"
      ],
      "metadata": {
        "id": "SYOMdpMCT4AP"
      }
    },
    {
      "cell_type": "code",
      "source": [
        "np.array(class_names)[y_pred]"
      ],
      "metadata": {
        "colab": {
          "base_uri": "https://localhost:8080/"
        },
        "id": "QauoXH5FToCn",
        "outputId": "e77c1010-5c93-4d0d-daa9-3dbb5474be14"
      },
      "execution_count": null,
      "outputs": [
        {
          "output_type": "execute_result",
          "data": {
            "text/plain": [
              "array(['Ankle boot', 'Pullover', 'Trouser'], dtype='<U11')"
            ]
          },
          "metadata": {},
          "execution_count": 56
        }
      ]
    },
    {
      "cell_type": "code",
      "source": [
        "plt.figure(figsize=(7.2, 2.4))\n",
        "for index, image in enumerate(X_new):\n",
        "    plt.subplot(1, 3, index + 1)\n",
        "    plt.imshow(image, cmap=\"binary\", interpolation=\"nearest\")\n",
        "    plt.axis('off')\n",
        "    plt.title(class_names[y_test[index]], fontsize=12)\n",
        "plt.subplots_adjust(wspace=0.2, hspace=0.5)\n",
        "save_fig('fashion_mnist_images_plot', tight_layout=False)\n",
        "plt.show()"
      ],
      "metadata": {
        "colab": {
          "base_uri": "https://localhost:8080/",
          "height": 183
        },
        "id": "MtYJjePVT-QR",
        "outputId": "af25e666-615e-43f0-d71f-de68d4b841a0"
      },
      "execution_count": null,
      "outputs": [
        {
          "output_type": "stream",
          "name": "stdout",
          "text": [
            "Saving figure fashion_mnist_images_plot\n"
          ]
        },
        {
          "output_type": "display_data",
          "data": {
            "text/plain": [
              "<Figure size 518.4x172.8 with 3 Axes>"
            ],
            "image/png": "[encoded data removed]"
          },
          "metadata": {
            "needs_background": "light"
          }
        }
      ]
    },
    {
      "cell_type": "markdown",
      "source": [
        "## 使用顺序API构建回归MLP"
      ],
      "metadata": {
        "id": "3cSxUoeiVMAB"
      }
    },
    {
      "cell_type": "markdown",
      "source": [
        "使用回归神经网络解决加州住房问题"
      ],
      "metadata": {
        "id": "swq6uS4kVTok"
      }
    },
    {
      "cell_type": "markdown",
      "source": [
        "### 导入数据"
      ],
      "metadata": {
        "id": "29hO3e44VeIb"
      }
    },
    {
      "cell_type": "code",
      "source": [
        "from sklearn.datasets import fetch_california_housing\n",
        "from sklearn.model_selection import train_test_split\n",
        "from sklearn.preprocessing import StandardScaler\n",
        "housing = fetch_california_housing()"
      ],
      "metadata": {
        "id": "TPZXynHlVhjZ"
      },
      "execution_count": null,
      "outputs": []
    },
    {
      "cell_type": "markdown",
      "source": [
        "### 分割数据集"
      ],
      "metadata": {
        "id": "pbHOEITSV17s"
      }
    },
    {
      "cell_type": "code",
      "source": [
        "X_train_full,X_test,y_train_full,y_test = train_test_split(housing.data,housing.target)"
      ],
      "metadata": {
        "id": "t_pSiOFRV6qZ"
      },
      "execution_count": null,
      "outputs": []
    },
    {
      "cell_type": "code",
      "source": [
        "X_train,X_valid,y_train,y_valid = train_test_split(X_train_full,y_train_full)"
      ],
      "metadata": {
        "id": "_zBKieudWU3_"
      },
      "execution_count": null,
      "outputs": []
    },
    {
      "cell_type": "code",
      "source": [
        "scaler = StandardScaler()\n",
        "X_train = scaler.fit_transform(X_train)\n",
        "X_valid = scaler.transform(X_valid)\n",
        "X_test = scaler.transform(X_test)"
      ],
      "metadata": {
        "id": "1uuRtPoRWqdK"
      },
      "execution_count": null,
      "outputs": []
    },
    {
      "cell_type": "markdown",
      "source": [
        "np.random.seed(42)是numpy库中用于生成随机数的随机数生成器的种子。通过设置这个种子，可以确保每次生成的随机数序列都是相同的。"
      ],
      "metadata": {
        "id": "SEjp09AXdYvp"
      }
    },
    {
      "cell_type": "code",
      "source": [
        "np.random.seed(42)\n",
        "tf.random.set_seed(42)"
      ],
      "metadata": {
        "id": "qPmKY4_bceFx"
      },
      "execution_count": null,
      "outputs": []
    },
    {
      "cell_type": "code",
      "source": [
        "model = keras.models.Sequential([\n",
        "    keras.layers.Dense(30, activation=\"relu\", input_shape=X_train.shape[1:]),\n",
        "    keras.layers.Dense(1)\n",
        "])\n",
        "model.compile(loss='mean_squared_error',optimizer='sgd')\n",
        "history = model.fit(X_train,y_train,epochs = 20,validation_data=(X_valid,y_valid))"
      ],
      "metadata": {
        "colab": {
          "base_uri": "https://localhost:8080/"
        },
        "id": "TO4v2DzsciHq",
        "outputId": "42e2562f-1841-4c45-c262-b73c7d4ab1bb"
      },
      "execution_count": null,
      "outputs": [
        {
          "output_type": "stream",
          "name": "stdout",
          "text": [
            "Epoch 1/20\n",
            "363/363 [==============================] - 4s 7ms/step - loss: 1.0540 - val_loss: 0.9755\n",
            "Epoch 2/20\n",
            "363/363 [==============================] - 2s 7ms/step - loss: 0.6427 - val_loss: 0.5305\n",
            "Epoch 3/20\n",
            "363/363 [==============================] - 4s 10ms/step - loss: 0.4947 - val_loss: 0.4967\n",
            "Epoch 4/20\n",
            "363/363 [==============================] - 3s 8ms/step - loss: 0.4671 - val_loss: 0.4838\n",
            "Epoch 5/20\n",
            "363/363 [==============================] - 2s 5ms/step - loss: 0.4527 - val_loss: 0.4711\n",
            "Epoch 6/20\n",
            "363/363 [==============================] - 1s 3ms/step - loss: 0.4421 - val_loss: 0.4575\n",
            "Epoch 7/20\n",
            "363/363 [==============================] - 2s 6ms/step - loss: 0.4338 - val_loss: 0.4497\n",
            "Epoch 8/20\n",
            "363/363 [==============================] - 1s 3ms/step - loss: 0.4257 - val_loss: 0.4446\n",
            "Epoch 9/20\n",
            "363/363 [==============================] - 1s 3ms/step - loss: 0.4185 - val_loss: 0.4381\n",
            "Epoch 10/20\n",
            "363/363 [==============================] - 1s 3ms/step - loss: 0.4140 - val_loss: 0.4343\n",
            "Epoch 11/20\n",
            "363/363 [==============================] - 2s 6ms/step - loss: 0.4076 - val_loss: 0.4315\n",
            "Epoch 12/20\n",
            "363/363 [==============================] - 2s 6ms/step - loss: 0.4035 - val_loss: 0.4295\n",
            "Epoch 13/20\n",
            "363/363 [==============================] - 1s 3ms/step - loss: 0.3995 - val_loss: 0.4309\n",
            "Epoch 14/20\n",
            "363/363 [==============================] - 1s 3ms/step - loss: 0.3955 - val_loss: 0.4250\n",
            "Epoch 15/20\n",
            "363/363 [==============================] - 1s 3ms/step - loss: 0.3915 - val_loss: 0.4303\n",
            "Epoch 16/20\n",
            "363/363 [==============================] - 1s 4ms/step - loss: 0.3891 - val_loss: 0.4142\n",
            "Epoch 17/20\n",
            "363/363 [==============================] - 1s 3ms/step - loss: 0.3861 - val_loss: 0.4198\n",
            "Epoch 18/20\n",
            "363/363 [==============================] - 1s 3ms/step - loss: 0.3822 - val_loss: 0.4120\n",
            "Epoch 19/20\n",
            "363/363 [==============================] - 1s 3ms/step - loss: 0.3803 - val_loss: 0.4081\n",
            "Epoch 20/20\n",
            "363/363 [==============================] - 1s 3ms/step - loss: 0.3777 - val_loss: 0.4098\n"
          ]
        }
      ]
    },
    {
      "cell_type": "code",
      "source": [
        "mse_test = model.evaluate(X_test,y_test)"
      ],
      "metadata": {
        "colab": {
          "base_uri": "https://localhost:8080/"
        },
        "id": "RZl43B_sd__r",
        "outputId": "a61621a9-3233-4d68-9517-2d947a142ed3"
      },
      "execution_count": null,
      "outputs": [
        {
          "output_type": "stream",
          "name": "stdout",
          "text": [
            "162/162 [==============================] - 1s 7ms/step - loss: 0.3886\n"
          ]
        }
      ]
    },
    {
      "cell_type": "code",
      "source": [
        "X_new = X_test[:3]\n",
        "y_pred = model.predict(X_new)\n",
        "y_pred"
      ],
      "metadata": {
        "colab": {
          "base_uri": "https://localhost:8080/"
        },
        "id": "G7RJTCU6eIAb",
        "outputId": "9399c43d-f9ab-4257-f070-1de70553df33"
      },
      "execution_count": null,
      "outputs": [
        {
          "output_type": "stream",
          "name": "stdout",
          "text": [
            "1/1 [==============================] - 0s 104ms/step\n"
          ]
        },
        {
          "output_type": "execute_result",
          "data": {
            "text/plain": [
              "array([[0.73452044],\n",
              "       [1.7128121 ],\n",
              "       [3.6503468 ]], dtype=float32)"
            ]
          },
          "metadata": {},
          "execution_count": 68
        }
      ]
    },
    {
      "cell_type": "code",
      "source": [
        "y_test[:3]"
      ],
      "metadata": {
        "colab": {
          "base_uri": "https://localhost:8080/"
        },
        "id": "ogD0ChkCe7e_",
        "outputId": "a418f466-cb97-4dca-9f65-ec515bb090dc"
      },
      "execution_count": null,
      "outputs": [
        {
          "output_type": "execute_result",
          "data": {
            "text/plain": [
              "array([0.477  , 0.458  , 5.00001])"
            ]
          },
          "metadata": {},
          "execution_count": 70
        }
      ]
    },
    {
      "cell_type": "markdown",
      "source": [
        "# 使用函数式API构建复杂模型"
      ],
      "metadata": {
        "id": "eXtJUlDsUz5X"
      }
    },
    {
      "cell_type": "markdown",
      "source": [
        "非顺序神经网络\n",
        "\n",
        "宽神经网络，部分输入层数据直接连接到输出层"
      ],
      "metadata": {
        "id": "yaqLAkBeFIq0"
      }
    },
    {
      "cell_type": "code",
      "source": [
        "input_ = keras.layers.Input(shape=X_train.shape[1:0])\n",
        "\n",
        "hidden1 = "
      ],
      "metadata": {
        "id": "24fnzXigU8GT"
      },
      "execution_count": null,
      "outputs": []
    }
  ],
  "metadata": {
    "colab": {
      "provenance": [],
      "authorship_tag": "ABX9TyN7i3QOYTBAXwBGDfygK2z2",
      "include_colab_link": true
    },
    "kernelspec": {
      "display_name": "Python 3",
      "name": "python3"
    },
    "language_info": {
      "name": "python"
    }
  },
  "nbformat": 4,
  "nbformat_minor": 0
}
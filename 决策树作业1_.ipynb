{
  "nbformat": 4,
  "nbformat_minor": 0,
  "metadata": {
    "colab": {
      "provenance": [],
      "authorship_tag": "ABX9TyOUeJHOBqlqqfjzkOjvftOa",
      "include_colab_link": true
    },
    "kernelspec": {
      "name": "python3",
      "display_name": "Python 3"
    },
    "language_info": {
      "name": "python"
    }
  },
  "cells": [
    {
      "cell_type": "markdown",
      "metadata": {
        "id": "view-in-github",
        "colab_type": "text"
      },
      "source": [
        "<a href=\"https://colab.research.google.com/github/mango766/ml_learning/blob/main/%E5%86%B3%E7%AD%96%E6%A0%91%E4%BD%9C%E4%B8%9A1_.ipynb\" target=\"_parent\"><img src=\"https://colab.research.google.com/assets/colab-badge.svg\" alt=\"Open In Colab\"/></a>"
      ]
    },
    {
      "cell_type": "markdown",
      "source": [
        "# 使用卫星训练集网格搜索训练随机树、使用随机森林进行预测"
      ],
      "metadata": {
        "id": "uvu2W42VQfSE"
      }
    },
    {
      "cell_type": "code",
      "source": [
        "import numpy as np"
      ],
      "metadata": {
        "id": "mJsyOmlLLOTx"
      },
      "execution_count": 17,
      "outputs": []
    },
    {
      "cell_type": "code",
      "execution_count": 2,
      "metadata": {
        "colab": {
          "base_uri": "https://localhost:8080/"
        },
        "id": "QOtJUso2A68d",
        "outputId": "5a3ad8b0-8027-4e56-cee0-434fdeaf1322"
      },
      "outputs": [
        {
          "output_type": "execute_result",
          "data": {
            "text/plain": [
              "<function sklearn.datasets._samples_generator.make_moons(n_samples=100, *, shuffle=True, noise=None, random_state=None)>"
            ]
          },
          "metadata": {},
          "execution_count": 2
        }
      ],
      "source": [
        "from sklearn.datasets import make_moons\n",
        "make_moons"
      ]
    },
    {
      "cell_type": "code",
      "source": [
        "X, y = make_moons(n_samples=10000, noise=0.4, random_state=42)"
      ],
      "metadata": {
        "id": "lBCCuApDBsDu"
      },
      "execution_count": 3,
      "outputs": []
    },
    {
      "cell_type": "code",
      "source": [
        "from sklearn.model_selection import train_test_split\n",
        "X_train, X_test, y_train, y_test = train_test_split(X, y, test_size=0.2, random_state=42)"
      ],
      "metadata": {
        "id": "g9I5FgK_CIv1"
      },
      "execution_count": 4,
      "outputs": []
    },
    {
      "cell_type": "code",
      "source": [
        "from sklearn.tree import DecisionTreeClassifier"
      ],
      "metadata": {
        "id": "K3AgqqiWDjHR"
      },
      "execution_count": 6,
      "outputs": []
    },
    {
      "cell_type": "code",
      "source": [
        "from sklearn.model_selection import GridSearchCV\n",
        "\n",
        "params = {'max_leaf_nodes': list(range(2, 100)), 'min_samples_split': [2, 3, 4]}\n",
        "grid_search_cv = GridSearchCV(DecisionTreeClassifier(random_state=42), params, verbose=1, cv=3)\n",
        "\n",
        "grid_search_cv.fit(X_train, y_train)"
      ],
      "metadata": {
        "colab": {
          "base_uri": "https://localhost:8080/"
        },
        "id": "sY-AR2HBDaux",
        "outputId": "93358776-cf48-40c9-b673-1471f0c0fd7b"
      },
      "execution_count": 7,
      "outputs": [
        {
          "output_type": "stream",
          "name": "stdout",
          "text": [
            "Fitting 3 folds for each of 294 candidates, totalling 882 fits\n"
          ]
        },
        {
          "output_type": "execute_result",
          "data": {
            "text/plain": [
              "GridSearchCV(cv=3, estimator=DecisionTreeClassifier(random_state=42),\n",
              "             param_grid={'max_leaf_nodes': [2, 3, 4, 5, 6, 7, 8, 9, 10, 11, 12,\n",
              "                                            13, 14, 15, 16, 17, 18, 19, 20, 21,\n",
              "                                            22, 23, 24, 25, 26, 27, 28, 29, 30,\n",
              "                                            31, ...],\n",
              "                         'min_samples_split': [2, 3, 4]},\n",
              "             verbose=1)"
            ]
          },
          "metadata": {},
          "execution_count": 7
        }
      ]
    },
    {
      "cell_type": "code",
      "source": [
        "grid_search_cv.best_estimator_"
      ],
      "metadata": {
        "colab": {
          "base_uri": "https://localhost:8080/"
        },
        "id": "gMmeqUXoELRj",
        "outputId": "700b4310-5ba8-4ae7-b0e3-4e7725f92f0b"
      },
      "execution_count": 8,
      "outputs": [
        {
          "output_type": "execute_result",
          "data": {
            "text/plain": [
              "DecisionTreeClassifier(max_leaf_nodes=17, random_state=42)"
            ]
          },
          "metadata": {},
          "execution_count": 8
        }
      ]
    },
    {
      "cell_type": "code",
      "source": [
        "y_pred = grid_search_cv.predict(X_test)"
      ],
      "metadata": {
        "id": "5QD8BMVLEdgL"
      },
      "execution_count": 9,
      "outputs": []
    },
    {
      "cell_type": "markdown",
      "source": [
        "使用交叉验证，发现在训练集上拟合情况良好"
      ],
      "metadata": {
        "id": "vL5KadhAGHWZ"
      }
    },
    {
      "cell_type": "code",
      "source": [
        "from sklearn.model_selection import cross_val_score\n",
        "cross_val_score(grid_search_cv, X_train, y_train, cv=3, scoring='accuracy')"
      ],
      "metadata": {
        "colab": {
          "base_uri": "https://localhost:8080/"
        },
        "id": "yNAO5oKHEPsq",
        "outputId": "e01d4fea-95d1-4bbf-c810-9d8ffaec0f2f"
      },
      "execution_count": 12,
      "outputs": [
        {
          "output_type": "stream",
          "name": "stdout",
          "text": [
            "Fitting 3 folds for each of 294 candidates, totalling 882 fits\n",
            "Fitting 3 folds for each of 294 candidates, totalling 882 fits\n",
            "Fitting 3 folds for each of 294 candidates, totalling 882 fits\n"
          ]
        },
        {
          "output_type": "execute_result",
          "data": {
            "text/plain": [
              "array([0.85189351, 0.85751781, 0.85708927])"
            ]
          },
          "metadata": {},
          "execution_count": 12
        }
      ]
    },
    {
      "cell_type": "code",
      "source": [
        "from sklearn.metrics import accuracy_score\n",
        "\n",
        "y_pred = grid_search_cv.predict(X_test)\n",
        "accuracy_score(y_test, y_pred)"
      ],
      "metadata": {
        "colab": {
          "base_uri": "https://localhost:8080/"
        },
        "id": "F_FQaVd1Eati",
        "outputId": "3392c453-c51f-4d9c-d108-8b9babdfe504"
      },
      "execution_count": 13,
      "outputs": [
        {
          "output_type": "execute_result",
          "data": {
            "text/plain": [
              "0.8695"
            ]
          },
          "metadata": {},
          "execution_count": 13
        }
      ]
    },
    {
      "cell_type": "markdown",
      "source": [
        "准确率为87%左右"
      ],
      "metadata": {
        "id": "kcnQa39NGQFW"
      }
    },
    {
      "cell_type": "markdown",
      "source": [
        "在1000个测试集上使用之前得出的最佳参数进行评估。"
      ],
      "metadata": {
        "id": "XxFbA4cxGygO"
      }
    },
    {
      "cell_type": "code",
      "source": [
        "from sklearn.model_selection import ShuffleSplit\n",
        "\n",
        "n_trees = 1000\n",
        "n_instances = 100#实例数\n",
        "mini_sets = []\n",
        "\n",
        "rs = ShuffleSplit(n_splits=n_trees, test_size=len(X_train) - n_instances, random_state=42)"
      ],
      "metadata": {
        "id": "fr74KcSAG_5q"
      },
      "execution_count": 14,
      "outputs": []
    },
    {
      "cell_type": "code",
      "source": [
        "for mini_train_index, mini_test_index in rs.split(X_train):\n",
        "    X_mini_train = X_train[mini_train_index]\n",
        "    y_mini_train = y_train[mini_train_index]\n",
        "    mini_sets.append((X_mini_train, y_mini_train))"
      ],
      "metadata": {
        "id": "1rLJg1zeKgBi"
      },
      "execution_count": 15,
      "outputs": []
    },
    {
      "cell_type": "code",
      "source": [
        "from sklearn.base import clone\n",
        "\n",
        "forest = [clone(grid_search_cv.best_estimator_) for _ in range(n_trees)]#使用之前最优参数，克隆到新模型中\n",
        "\n",
        "accuracy_scores = []\n",
        "\n",
        "for tree, (X_mini_train, y_mini_train) in zip(forest, mini_sets):\n",
        "    tree.fit(X_mini_train, y_mini_train)\n",
        "    \n",
        "    y_pred = tree.predict(X_test)\n",
        "    accuracy_scores.append(accuracy_score(y_test, y_pred))\n",
        "\n",
        "print(accuracy_scores)\n",
        "print(np.mean(accuracy_scores))"
      ],
      "metadata": {
        "colab": {
          "base_uri": "https://localhost:8080/"
        },
        "id": "zE5Lq_U1KxTg",
        "outputId": "d24d95dc-301c-41c0-9bbb-6d9503d329be"
      },
      "execution_count": 18,
      "outputs": [
        {
          "output_type": "stream",
          "name": "stdout",
          "text": [
            "[0.7985, 0.836, 0.8065, 0.842, 0.7935, 0.8315, 0.7825, 0.7935, 0.8085, 0.829, 0.794, 0.78, 0.7995, 0.8175, 0.8035, 0.846, 0.8235, 0.811, 0.825, 0.834, 0.8345, 0.82, 0.792, 0.8395, 0.8155, 0.7735, 0.833, 0.8055, 0.823, 0.8165, 0.777, 0.831, 0.815, 0.769, 0.793, 0.805, 0.7905, 0.772, 0.816, 0.8375, 0.772, 0.7455, 0.7985, 0.7915, 0.807, 0.803, 0.82, 0.785, 0.79, 0.7975, 0.8185, 0.809, 0.7875, 0.809, 0.781, 0.8145, 0.8255, 0.8215, 0.7685, 0.7555, 0.774, 0.8035, 0.767, 0.8085, 0.8205, 0.786, 0.824, 0.7815, 0.838, 0.7895, 0.8215, 0.803, 0.8305, 0.833, 0.8245, 0.769, 0.831, 0.801, 0.831, 0.789, 0.8085, 0.788, 0.848, 0.824, 0.7385, 0.743, 0.808, 0.8055, 0.837, 0.745, 0.7995, 0.8105, 0.7955, 0.793, 0.8075, 0.792, 0.816, 0.809, 0.821, 0.79, 0.803, 0.8, 0.8115, 0.816, 0.838, 0.801, 0.8, 0.803, 0.806, 0.8235, 0.8095, 0.854, 0.807, 0.84, 0.809, 0.796, 0.81, 0.8015, 0.7955, 0.7915, 0.803, 0.7495, 0.8015, 0.814, 0.819, 0.82, 0.844, 0.804, 0.758, 0.8005, 0.779, 0.788, 0.7925, 0.78, 0.794, 0.797, 0.784, 0.7825, 0.8375, 0.799, 0.827, 0.774, 0.805, 0.834, 0.7765, 0.828, 0.809, 0.8165, 0.7975, 0.807, 0.771, 0.787, 0.8025, 0.7895, 0.828, 0.7745, 0.8085, 0.8215, 0.772, 0.81, 0.819, 0.715, 0.805, 0.798, 0.7995, 0.8195, 0.8155, 0.791, 0.818, 0.7955, 0.8055, 0.838, 0.818, 0.815, 0.7875, 0.769, 0.8105, 0.8405, 0.7995, 0.773, 0.786, 0.83, 0.832, 0.8035, 0.831, 0.8335, 0.8075, 0.7905, 0.7855, 0.7895, 0.8145, 0.797, 0.787, 0.8195, 0.8345, 0.832, 0.831, 0.826, 0.769, 0.781, 0.7745, 0.826, 0.771, 0.784, 0.809, 0.8315, 0.8015, 0.7965, 0.795, 0.7915, 0.7835, 0.7975, 0.7905, 0.798, 0.836, 0.762, 0.7995, 0.834, 0.824, 0.756, 0.8155, 0.81, 0.8165, 0.824, 0.8195, 0.828, 0.8425, 0.8, 0.831, 0.7605, 0.7705, 0.8095, 0.8045, 0.8185, 0.8285, 0.8295, 0.8235, 0.8195, 0.7995, 0.815, 0.754, 0.799, 0.7895, 0.838, 0.8, 0.8535, 0.812, 0.8175, 0.834, 0.7785, 0.8105, 0.8325, 0.8045, 0.836, 0.7815, 0.819, 0.8425, 0.798, 0.8015, 0.822, 0.82, 0.821, 0.792, 0.8165, 0.8155, 0.826, 0.805, 0.8095, 0.844, 0.822, 0.8615, 0.807, 0.774, 0.8205, 0.8165, 0.805, 0.8185, 0.799, 0.854, 0.7625, 0.8215, 0.8095, 0.8265, 0.8075, 0.7695, 0.8135, 0.8235, 0.8075, 0.7615, 0.791, 0.847, 0.829, 0.7815, 0.7675, 0.8045, 0.8165, 0.8095, 0.804, 0.814, 0.8185, 0.8195, 0.7525, 0.8235, 0.77, 0.8025, 0.801, 0.7825, 0.8235, 0.7465, 0.7995, 0.834, 0.8235, 0.8135, 0.817, 0.835, 0.833, 0.787, 0.7415, 0.807, 0.8185, 0.785, 0.8205, 0.8255, 0.7895, 0.8105, 0.7585, 0.827, 0.7655, 0.827, 0.8305, 0.803, 0.823, 0.7965, 0.7745, 0.8305, 0.797, 0.8055, 0.757, 0.778, 0.7915, 0.7765, 0.7985, 0.8015, 0.8085, 0.7935, 0.813, 0.8065, 0.7955, 0.8275, 0.816, 0.8315, 0.822, 0.804, 0.8005, 0.801, 0.817, 0.7785, 0.7935, 0.795, 0.7945, 0.796, 0.802, 0.7945, 0.789, 0.8195, 0.782, 0.825, 0.781, 0.77, 0.7885, 0.842, 0.8315, 0.818, 0.799, 0.7825, 0.814, 0.8, 0.7955, 0.8285, 0.806, 0.805, 0.777, 0.831, 0.8505, 0.857, 0.819, 0.828, 0.8135, 0.7965, 0.792, 0.831, 0.814, 0.832, 0.772, 0.7825, 0.774, 0.808, 0.8145, 0.826, 0.73, 0.8375, 0.844, 0.8095, 0.811, 0.721, 0.8095, 0.813, 0.825, 0.8225, 0.828, 0.8285, 0.7755, 0.7765, 0.8125, 0.801, 0.8345, 0.7955, 0.7875, 0.814, 0.8395, 0.815, 0.803, 0.81, 0.8195, 0.7885, 0.7625, 0.8065, 0.83, 0.8065, 0.7965, 0.827, 0.7645, 0.793, 0.7985, 0.765, 0.81, 0.7835, 0.794, 0.8215, 0.8195, 0.8255, 0.851, 0.78, 0.833, 0.8355, 0.8395, 0.817, 0.8195, 0.8175, 0.82, 0.8145, 0.819, 0.8455, 0.8345, 0.8325, 0.7905, 0.7775, 0.809, 0.778, 0.81, 0.7985, 0.806, 0.733, 0.8405, 0.8095, 0.8045, 0.8375, 0.795, 0.815, 0.8255, 0.801, 0.764, 0.803, 0.8165, 0.802, 0.7865, 0.8255, 0.814, 0.794, 0.792, 0.826, 0.8035, 0.8265, 0.805, 0.812, 0.815, 0.8275, 0.7915, 0.8295, 0.7715, 0.808, 0.7215, 0.719, 0.8385, 0.824, 0.8005, 0.8225, 0.8345, 0.807, 0.7715, 0.826, 0.8315, 0.801, 0.8095, 0.802, 0.8275, 0.82, 0.736, 0.818, 0.7925, 0.827, 0.803, 0.8045, 0.8535, 0.8135, 0.802, 0.8305, 0.821, 0.8175, 0.8255, 0.831, 0.839, 0.8185, 0.766, 0.8135, 0.771, 0.7855, 0.8145, 0.785, 0.812, 0.821, 0.7345, 0.807, 0.815, 0.8235, 0.8, 0.816, 0.799, 0.814, 0.8015, 0.7735, 0.829, 0.798, 0.8025, 0.8385, 0.8165, 0.8155, 0.738, 0.8255, 0.794, 0.779, 0.817, 0.756, 0.8035, 0.821, 0.7985, 0.84, 0.8075, 0.839, 0.7925, 0.777, 0.7935, 0.8315, 0.773, 0.775, 0.809, 0.7765, 0.81, 0.818, 0.794, 0.795, 0.843, 0.8375, 0.8185, 0.839, 0.7855, 0.7995, 0.83, 0.8195, 0.822, 0.853, 0.803, 0.823, 0.826, 0.8385, 0.816, 0.8505, 0.8125, 0.78, 0.825, 0.829, 0.8395, 0.822, 0.7555, 0.8165, 0.8045, 0.809, 0.8225, 0.805, 0.842, 0.783, 0.831, 0.7675, 0.8055, 0.803, 0.8025, 0.7745, 0.798, 0.8415, 0.838, 0.802, 0.796, 0.827, 0.8335, 0.8325, 0.8365, 0.821, 0.819, 0.8145, 0.8205, 0.8205, 0.784, 0.801, 0.8165, 0.8, 0.8185, 0.8095, 0.811, 0.803, 0.819, 0.817, 0.83, 0.8265, 0.797, 0.7705, 0.7655, 0.78, 0.779, 0.8065, 0.8125, 0.8175, 0.799, 0.8215, 0.797, 0.8315, 0.8205, 0.827, 0.8365, 0.8425, 0.773, 0.8155, 0.804, 0.8315, 0.814, 0.8285, 0.774, 0.851, 0.7915, 0.8035, 0.799, 0.773, 0.783, 0.7915, 0.8535, 0.801, 0.7705, 0.815, 0.8305, 0.8405, 0.8035, 0.8025, 0.8245, 0.815, 0.783, 0.825, 0.7365, 0.83, 0.7765, 0.8265, 0.7915, 0.7755, 0.833, 0.7925, 0.806, 0.7895, 0.833, 0.792, 0.845, 0.795, 0.8405, 0.7475, 0.8405, 0.7895, 0.824, 0.828, 0.7745, 0.7715, 0.808, 0.8065, 0.779, 0.779, 0.812, 0.817, 0.8325, 0.802, 0.821, 0.809, 0.7745, 0.783, 0.77, 0.788, 0.8105, 0.834, 0.838, 0.7605, 0.788, 0.735, 0.819, 0.832, 0.817, 0.7695, 0.838, 0.7835, 0.807, 0.8035, 0.8275, 0.8095, 0.8125, 0.8185, 0.797, 0.7835, 0.81, 0.8235, 0.8035, 0.8135, 0.7545, 0.801, 0.8435, 0.8105, 0.828, 0.785, 0.82, 0.831, 0.8015, 0.789, 0.8185, 0.8235, 0.8455, 0.8115, 0.836, 0.7475, 0.825, 0.8175, 0.847, 0.816, 0.7655, 0.8195, 0.8275, 0.827, 0.8305, 0.77, 0.7745, 0.805, 0.838, 0.809, 0.7645, 0.8425, 0.8235, 0.8285, 0.818, 0.8015, 0.8255, 0.803, 0.777, 0.7525, 0.8125, 0.8075, 0.791, 0.8065, 0.7855, 0.808, 0.8395, 0.8465, 0.8055, 0.797, 0.7865, 0.8465, 0.7885, 0.8265, 0.739, 0.7975, 0.836, 0.7705, 0.7845, 0.821, 0.833, 0.7545, 0.7845, 0.8225, 0.797, 0.8365, 0.832, 0.8365, 0.829, 0.82, 0.7715, 0.7965, 0.8205, 0.83, 0.8245, 0.8115, 0.8445, 0.8245, 0.828, 0.8195, 0.7995, 0.8005, 0.7685, 0.834, 0.817, 0.7895, 0.822, 0.7865, 0.7875, 0.8135, 0.7945, 0.842, 0.842, 0.8105, 0.772, 0.7925, 0.8475, 0.825, 0.8175, 0.792, 0.836, 0.758, 0.793, 0.763, 0.8285, 0.798, 0.842, 0.816, 0.789, 0.8435, 0.802, 0.736, 0.7845, 0.8205, 0.831, 0.834, 0.811, 0.7745, 0.808, 0.796, 0.78, 0.811, 0.7815, 0.8235, 0.774, 0.831, 0.8395, 0.801, 0.7885, 0.8195, 0.7345, 0.728, 0.8225, 0.794, 0.846, 0.8275, 0.831, 0.818, 0.797, 0.828, 0.8, 0.777, 0.811, 0.7745, 0.747, 0.7325, 0.82, 0.7885, 0.745, 0.829, 0.7775, 0.8045, 0.8125, 0.8, 0.788, 0.81, 0.7865, 0.809, 0.7795, 0.775, 0.809, 0.813, 0.832, 0.7425, 0.821, 0.8215, 0.8135, 0.823, 0.764, 0.7965, 0.7725, 0.811, 0.815, 0.7975, 0.75, 0.797, 0.7845, 0.7825, 0.763, 0.7615, 0.7735, 0.821, 0.8265, 0.818, 0.8015, 0.782, 0.8055, 0.806, 0.792, 0.808, 0.8165, 0.7835, 0.768, 0.7765, 0.8055, 0.8205, 0.765, 0.769, 0.8075, 0.788, 0.8295, 0.8155, 0.809, 0.8025, 0.8485, 0.79, 0.8115, 0.7765, 0.8295, 0.8135, 0.7595, 0.8025, 0.7815, 0.8425, 0.828, 0.8205, 0.8255, 0.803, 0.7845, 0.7755, 0.841, 0.8085, 0.853, 0.754, 0.8115, 0.796, 0.7385, 0.7565, 0.7945, 0.7785, 0.8015, 0.8375, 0.8275, 0.7615, 0.7755, 0.7605, 0.818, 0.8305, 0.8245, 0.8215, 0.799, 0.792, 0.8005, 0.8015, 0.7965, 0.8, 0.8, 0.805, 0.829, 0.816, 0.827, 0.8315, 0.814, 0.8515, 0.803, 0.7825, 0.7585, 0.8265, 0.8005, 0.8, 0.8195, 0.818, 0.8085, 0.7805, 0.8335]\n",
            "0.8054499999999999\n"
          ]
        }
      ]
    },
    {
      "cell_type": "markdown",
      "source": [
        "使用随机森林，1000个决策树"
      ],
      "metadata": {
        "id": "NwrobI5wOQjQ"
      }
    },
    {
      "cell_type": "code",
      "source": [
        "Y_pred = np.empty([n_trees, len(X_test)], dtype=np.uint8)\n",
        "\n",
        "for tree_index, tree in enumerate(forest):\n",
        "    Y_pred[tree_index] = tree.predict(X_test)"
      ],
      "metadata": {
        "id": "_cxWdlU0OeB2"
      },
      "execution_count": 20,
      "outputs": []
    },
    {
      "cell_type": "markdown",
      "source": [
        "保留次数最频繁的预测"
      ],
      "metadata": {
        "id": "kmV1PsTDPVj7"
      }
    },
    {
      "cell_type": "code",
      "source": [
        "from scipy.stats import mode\n",
        "\n",
        "y_pred_majority_votes, n_votes = mode(Y_pred, axis=0)"
      ],
      "metadata": {
        "id": "cFz6ZaHSPTmJ"
      },
      "execution_count": 21,
      "outputs": []
    },
    {
      "cell_type": "code",
      "source": [
        "accuracy_score(y_test, y_pred_majority_votes.reshape([-1]))"
      ],
      "metadata": {
        "colab": {
          "base_uri": "https://localhost:8080/"
        },
        "id": "9PS23zhSPgiL",
        "outputId": "c25e220d-afe3-4c04-b78d-db02388edf6d"
      },
      "execution_count": 22,
      "outputs": [
        {
          "output_type": "execute_result",
          "data": {
            "text/plain": [
              "0.872"
            ]
          },
          "metadata": {},
          "execution_count": 22
        }
      ]
    }
  ]
}
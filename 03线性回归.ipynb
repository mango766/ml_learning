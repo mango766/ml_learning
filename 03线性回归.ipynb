{
  "nbformat": 4,
  "nbformat_minor": 0,
  "metadata": {
    "colab": {
      "provenance": [],
      "collapsed_sections": [],
      "toc_visible": true,
      "authorship_tag": "ABX9TyMDo469/QI5eBnZAnOKNlRY",
      "include_colab_link": true
    },
    "kernelspec": {
      "name": "python3",
      "display_name": "Python 3"
    },
    "language_info": {
      "name": "python"
    }
  },
  "cells": [
    {
      "cell_type": "markdown",
      "metadata": {
        "id": "view-in-github",
        "colab_type": "text"
      },
      "source": [
        "<a href=\"https://colab.research.google.com/github/mango766/ml_learning/blob/main/03%E7%BA%BF%E6%80%A7%E5%9B%9E%E5%BD%92.ipynb\" target=\"_parent\"><img src=\"https://colab.research.google.com/assets/colab-badge.svg\" alt=\"Open In Colab\"/></a>"
      ]
    },
    {
      "cell_type": "markdown",
      "source": [
        "# 1 线性回归模型"
      ],
      "metadata": {
        "id": "QnkYgzDtY26H"
      }
    },
    {
      "cell_type": "code",
      "source": [
        "# Python ≥3.5 is required\n",
        "import sys\n",
        "assert sys.version_info >= (3, 5)\n",
        "\n",
        "# Is this notebook running on Colab or Kaggle?\n",
        "IS_COLAB = \"google.colab\" in sys.modules\n",
        "IS_KAGGLE = \"kaggle_secrets\" in sys.modules\n",
        "\n",
        "# Scikit-Learn ≥0.20 is required\n",
        "import sklearn\n",
        "assert sklearn.__version__ >= \"0.20\"\n",
        "\n",
        "# Common imports\n",
        "import numpy as np\n",
        "import os\n",
        "\n",
        "# to make this notebook's output stable across runs\n",
        "np.random.seed(42)\n",
        "\n",
        "# To plot pretty figures\n",
        "%matplotlib inline\n",
        "import matplotlib as mpl\n",
        "import matplotlib.pyplot as plt\n",
        "mpl.rc('axes', labelsize=14)\n",
        "mpl.rc('xtick', labelsize=12)\n",
        "mpl.rc('ytick', labelsize=12)\n",
        "\n",
        "# Where to save the figures\n",
        "PROJECT_ROOT_DIR = \".\"\n",
        "CHAPTER_ID = \"train_linear_models\"\n",
        "IMAGES_PATH = os.path.join(PROJECT_ROOT_DIR, \"images\", CHAPTER_ID)\n",
        "os.makedirs(IMAGES_PATH, exist_ok=True)\n",
        "\n",
        "def save_fig(fig_id, tight_layout=True, fig_extension=\"png\", resolution=300):\n",
        "    path = os.path.join(IMAGES_PATH, fig_id + \".\" + fig_extension)\n",
        "    print(\"Saving figure\", fig_id)\n",
        "    if tight_layout:\n",
        "        plt.tight_layout()\n",
        "    plt.savefig(path, format=fig_extension, dpi=resolution)"
      ],
      "metadata": {
        "id": "j4yoYIyp3Puh"
      },
      "execution_count": null,
      "outputs": []
    },
    {
      "cell_type": "code",
      "source": [
        "import numpy as np\n",
        "\n",
        "X = 2 * np.random.rand(100,1)#生成100行1列的向量\n",
        "y = 4 + 3 * X + np.random.randn(100,1)\n"
      ],
      "metadata": {
        "id": "AYG6xA5aY-R-"
      },
      "execution_count": null,
      "outputs": []
    },
    {
      "cell_type": "code",
      "source": [
        "import matplotlib.pyplot as plt\n",
        "\n",
        "plt.plot(X,y,'b.')\n"
      ],
      "metadata": {
        "colab": {
          "base_uri": "https://localhost:8080/",
          "height": 286
        },
        "id": "ZHsH5PelZVCZ",
        "outputId": "cc115dd9-9b0e-4361-bb52-f689ae17acf0"
      },
      "execution_count": null,
      "outputs": [
        {
          "output_type": "execute_result",
          "data": {
            "text/plain": [
              "[<matplotlib.lines.Line2D at 0x7fb8aa9b1090>]"
            ]
          },
          "metadata": {},
          "execution_count": 32
        },
        {
          "output_type": "display_data",
          "data": {
            "text/plain": [
              "<Figure size 432x288 with 1 Axes>"
            ],
            "image/png": "[encoded data removed]"
          },
          "metadata": {
            "needs_background": "light"
          }
        }
      ]
    },
    {
      "cell_type": "markdown",
      "source": [
        "标准方程"
      ],
      "metadata": {
        "id": "HwdDJav4uaLa"
      }
    },
    {
      "cell_type": "code",
      "source": [
        "X_b = np.c_[np.ones((100, 1)), X]\n",
        "\n",
        "theta_best = np.linalg.inv(X_b.T.dot(X_b)).dot(X_b.T).dot(y)"
      ],
      "metadata": {
        "id": "lCKSy_n8uqN6"
      },
      "execution_count": null,
      "outputs": []
    },
    {
      "cell_type": "code",
      "source": [
        "theta_best"
      ],
      "metadata": {
        "colab": {
          "base_uri": "https://localhost:8080/"
        },
        "id": "9zK5-6jM3oyL",
        "outputId": "4df31ee3-b4a7-46f1-dad5-ed3db591b111"
      },
      "execution_count": null,
      "outputs": [
        {
          "output_type": "execute_result",
          "data": {
            "text/plain": [
              "array([[4.21509616],\n",
              "       [2.77011339]])"
            ]
          },
          "metadata": {},
          "execution_count": 34
        }
      ]
    },
    {
      "cell_type": "code",
      "source": [
        "X_new = np.array([[0],[2]])\n",
        "X_new_b = np.c_[np.ones((2,1)),X_new]\n",
        "y_predict = X_new_b.dot(theta_best)\n",
        "y_predict"
      ],
      "metadata": {
        "colab": {
          "base_uri": "https://localhost:8080/"
        },
        "id": "GYtJxnwc8_mv",
        "outputId": "7fcad760-9d61-485c-93c1-b1be7f4c71a8"
      },
      "execution_count": null,
      "outputs": [
        {
          "output_type": "execute_result",
          "data": {
            "text/plain": [
              "array([[4.21509616],\n",
              "       [9.75532293]])"
            ]
          },
          "metadata": {},
          "execution_count": 35
        }
      ]
    },
    {
      "cell_type": "code",
      "source": [
        "plt.plot(X_new, y_predict, 'r-')\n",
        "plt.plot(X,y, 'b.')\n",
        "plt.axis([0,2,0,15])\n",
        "plt.show()"
      ],
      "metadata": {
        "colab": {
          "base_uri": "https://localhost:8080/",
          "height": 268
        },
        "id": "6-snauYpkH4O",
        "outputId": "fc2816e1-2c49-4a50-856d-5a1f56c9e03f"
      },
      "execution_count": null,
      "outputs": [
        {
          "output_type": "display_data",
          "data": {
            "text/plain": [
              "<Figure size 432x288 with 1 Axes>"
            ],
            "image/png": "[encoded data removed]"
          },
          "metadata": {
            "needs_background": "light"
          }
        }
      ]
    },
    {
      "cell_type": "markdown",
      "source": [
        "使用线性回归"
      ],
      "metadata": {
        "id": "ILoST8kVkmMs"
      }
    },
    {
      "cell_type": "code",
      "source": [
        "from sklearn.linear_model import LinearRegression\n",
        "lin_reg = LinearRegression()\n",
        "lin_reg.fit(X,y)\n",
        "lin_reg.intercept_,lin_reg.coef_\n"
      ],
      "metadata": {
        "colab": {
          "base_uri": "https://localhost:8080/"
        },
        "id": "OPjYpRnvkeKJ",
        "outputId": "e7f31a1c-703f-459d-aabb-3c5e9a09e9e9"
      },
      "execution_count": null,
      "outputs": [
        {
          "output_type": "execute_result",
          "data": {
            "text/plain": [
              "(array([4.21509616]), array([[2.77011339]]))"
            ]
          },
          "metadata": {},
          "execution_count": 37
        }
      ]
    },
    {
      "cell_type": "code",
      "source": [
        "lin_reg.predict(X_new)"
      ],
      "metadata": {
        "colab": {
          "base_uri": "https://localhost:8080/"
        },
        "id": "D04nIp21lPqU",
        "outputId": "35d2007d-fc06-4803-eb7d-52458efff922"
      },
      "execution_count": null,
      "outputs": [
        {
          "output_type": "execute_result",
          "data": {
            "text/plain": [
              "array([[4.21509616],\n",
              "       [9.75532293]])"
            ]
          },
          "metadata": {},
          "execution_count": 38
        }
      ]
    },
    {
      "cell_type": "markdown",
      "source": [
        "也可以直接调用最小二乘"
      ],
      "metadata": {
        "id": "a7KyeF8utiLy"
      }
    },
    {
      "cell_type": "code",
      "source": [
        "theta_best_svd, residuals, rank, s = np.linalg.lstsq(X_b, y, rcond = 1e-6)\n",
        "theta_best_svd"
      ],
      "metadata": {
        "colab": {
          "base_uri": "https://localhost:8080/"
        },
        "id": "DbaierOPtQjw",
        "outputId": "5e5d80e4-0a83-4c48-f33a-c696a5a2bf5b"
      },
      "execution_count": null,
      "outputs": [
        {
          "output_type": "execute_result",
          "data": {
            "text/plain": [
              "array([[4.21509616],\n",
              "       [2.77011339]])"
            ]
          },
          "metadata": {},
          "execution_count": 39
        }
      ]
    },
    {
      "cell_type": "code",
      "source": [
        "np.linalg.pinv(X_b).dot(y)"
      ],
      "metadata": {
        "colab": {
          "base_uri": "https://localhost:8080/"
        },
        "id": "Y0XsUCnpuo6L",
        "outputId": "cbeea9d9-47b7-439b-bb72-84b18b9cdbde"
      },
      "execution_count": null,
      "outputs": [
        {
          "output_type": "execute_result",
          "data": {
            "text/plain": [
              "array([[4.21509616],\n",
              "       [2.77011339]])"
            ]
          },
          "metadata": {},
          "execution_count": 40
        }
      ]
    },
    {
      "cell_type": "markdown",
      "source": [
        "# 2 梯度下降实现"
      ],
      "metadata": {
        "id": "RsD3G34Ru-FW"
      }
    },
    {
      "cell_type": "markdown",
      "source": [
        "批量梯度下降"
      ],
      "metadata": {
        "id": "zUgeOEmSanT5"
      }
    },
    {
      "cell_type": "code",
      "source": [
        "eta = 0.1 #学习率\n",
        "n_iterations = 1000 #迭代次数\n",
        "m = 100\n",
        "\n",
        "theta = np.random.randn(2,1)\n",
        "\n",
        "for iteration in range(n_iterations):\n",
        "  gradients = 2/m * X_b.T.dot(X_b.dot(theta) - y)\n",
        "  theta = theta - eta * gradients\n",
        "\n",
        "theta"
      ],
      "metadata": {
        "colab": {
          "base_uri": "https://localhost:8080/"
        },
        "id": "1paeReJ6vFu2",
        "outputId": "c28e1d90-8d33-4321-ed02-47dadfee5b9b"
      },
      "execution_count": null,
      "outputs": [
        {
          "output_type": "execute_result",
          "data": {
            "text/plain": [
              "array([[4.21509616],\n",
              "       [2.77011339]])"
            ]
          },
          "metadata": {},
          "execution_count": 41
        }
      ]
    },
    {
      "cell_type": "markdown",
      "source": [
        "随机梯度下降,使用学习率调度,学习率逐步降低,从而在随机中逐渐逼近最优值,这个过程叫模拟退火."
      ],
      "metadata": {
        "id": "XWu0FbICaqEf"
      }
    },
    {
      "cell_type": "code",
      "source": [
        "n_epochs = 50\n",
        "t0, t1 = 5, 50#学习率\n",
        "def learning_schedule(t):\n",
        "  return t0 / (t + t1)\n",
        "\n",
        "theta = np.random.randn(2,1)#randn函数返回一个或一组样本，具有标准正态分布,两行一列\n",
        "\n",
        "for epoch in range(n_epochs):\n",
        "  for i in range(m):\n",
        "    random_index = np.random.randint(m)#生成小于m的一个随机整数\n",
        "    xi = X_b[random_index:random_index+1]\n",
        "    yi = y[random_index:random_index+1]\n",
        "    gradients = 2 * xi.T.dot(xi.dot(theta) - yi)\n",
        "    eta = learning_schedule(epoch * m +i)\n",
        "    theta = theta - eta * gradients\n",
        "  \n",
        "theta"
      ],
      "metadata": {
        "colab": {
          "base_uri": "https://localhost:8080/"
        },
        "id": "_W_VuOAka6fH",
        "outputId": "2daa27a4-5dc7-40c7-cc15-8931968e2d08"
      },
      "execution_count": null,
      "outputs": [
        {
          "output_type": "execute_result",
          "data": {
            "text/plain": [
              "array([[4.18475289],\n",
              "       [2.73036719]])"
            ]
          },
          "metadata": {},
          "execution_count": 42
        }
      ]
    },
    {
      "cell_type": "markdown",
      "source": [
        "使用sgd类,最大迭代次数为1000次,默认学习调度从0.1开始"
      ],
      "metadata": {
        "id": "38mdfwfse9AJ"
      }
    },
    {
      "cell_type": "code",
      "source": [
        "from sklearn.linear_model import SGDRegressor\n",
        "sgd_reg = SGDRegressor(max_iter = 1000, tol = 1e-3, penalty=None, eta0 = 0.1)\n",
        "sgd_reg.fit(X, y.ravel())\n"
      ],
      "metadata": {
        "colab": {
          "base_uri": "https://localhost:8080/"
        },
        "id": "o7vp1C5GfK7u",
        "outputId": "3df5d1cd-4f6c-47a4-cb82-213820e5867a"
      },
      "execution_count": null,
      "outputs": [
        {
          "output_type": "execute_result",
          "data": {
            "text/plain": [
              "SGDRegressor(eta0=0.1, penalty=None)"
            ]
          },
          "metadata": {},
          "execution_count": 43
        }
      ]
    },
    {
      "cell_type": "code",
      "source": [
        "sgd_reg.intercept_, sgd_reg.coef_"
      ],
      "metadata": {
        "colab": {
          "base_uri": "https://localhost:8080/"
        },
        "id": "9B8-zZAhe5vX",
        "outputId": "e56d07ed-ae98-46bd-dae4-f261df8d8996"
      },
      "execution_count": null,
      "outputs": [
        {
          "output_type": "execute_result",
          "data": {
            "text/plain": [
              "(array([4.22609703]), array([2.79227913]))"
            ]
          },
          "metadata": {},
          "execution_count": 44
        }
      ]
    },
    {
      "cell_type": "markdown",
      "source": [
        "# 3 多项式回归"
      ],
      "metadata": {
        "id": "hiVLMcnraqm0"
      }
    },
    {
      "cell_type": "markdown",
      "source": [
        "生成非线性数据"
      ],
      "metadata": {
        "id": "rKkwbOA_a710"
      }
    },
    {
      "cell_type": "code",
      "source": [
        "m = 100\n",
        "X = 6 * np.random.rand(m,1) - 3 #生成-3 ，3 的一些数据\n",
        "\n",
        "y = 0.5 * X**2 + X + 2 + np.random.randn(m,1)\n"
      ],
      "metadata": {
        "id": "GtXLpOyBa-kV"
      },
      "execution_count": null,
      "outputs": []
    },
    {
      "cell_type": "code",
      "source": [
        "from sklearn.preprocessing import PolynomialFeatures\n",
        "poly_features = PolynomialFeatures(degree = 2, include_bias = False)\n",
        "X_poly = poly_features.fit_transform(X)  \n"
      ],
      "metadata": {
        "id": "dI5G-6Kxb1BK"
      },
      "execution_count": null,
      "outputs": []
    },
    {
      "cell_type": "code",
      "source": [
        "X[0]"
      ],
      "metadata": {
        "colab": {
          "base_uri": "https://localhost:8080/"
        },
        "id": "rlGGf1tKcoNZ",
        "outputId": "750877b8-e8bb-4c66-f0ad-d9afa4f08a6e"
      },
      "execution_count": null,
      "outputs": [
        {
          "output_type": "execute_result",
          "data": {
            "text/plain": [
              "array([2.94407494])"
            ]
          },
          "metadata": {},
          "execution_count": 47
        }
      ]
    },
    {
      "cell_type": "code",
      "source": [
        "X_poly[0]"
      ],
      "metadata": {
        "colab": {
          "base_uri": "https://localhost:8080/"
        },
        "id": "srSBz9Exc3rk",
        "outputId": "f9efe9a6-f612-45b1-beb9-a9204159b6e7"
      },
      "execution_count": null,
      "outputs": [
        {
          "output_type": "execute_result",
          "data": {
            "text/plain": [
              "array([2.94407494, 8.66757727])"
            ]
          },
          "metadata": {},
          "execution_count": 48
        }
      ]
    },
    {
      "cell_type": "markdown",
      "source": [
        "将x的平方看成一个特征，可以将线性回归模型拟合到训练数据中"
      ],
      "metadata": {
        "id": "Enn_Z3ALc9mj"
      }
    },
    {
      "cell_type": "code",
      "source": [
        "lin_reg = LinearRegression()\n",
        "lin_reg.fit(X_poly, y)\n",
        "lin_reg.intercept_, lin_reg.coef_"
      ],
      "metadata": {
        "colab": {
          "base_uri": "https://localhost:8080/"
        },
        "id": "BnzyJTigdTEL",
        "outputId": "ba7350a9-1e2f-42a2-f4da-c0873745345d"
      },
      "execution_count": null,
      "outputs": [
        {
          "output_type": "execute_result",
          "data": {
            "text/plain": [
              "(array([1.89554823]), array([[0.95707476, 0.49025797]]))"
            ]
          },
          "metadata": {},
          "execution_count": 49
        }
      ]
    },
    {
      "cell_type": "markdown",
      "source": [
        "# 4 学习曲线"
      ],
      "metadata": {
        "id": "XmmSHYH9gbcx"
      }
    },
    {
      "cell_type": "markdown",
      "source": [
        "在不同大小的训练子集上多次训练，从而生成学习曲线"
      ],
      "metadata": {
        "id": "QyzFE8DYgkTY"
      }
    },
    {
      "cell_type": "code",
      "source": [
        "from sklearn.metrics import mean_squared_error\n",
        "from sklearn.model_selection import train_test_split\n",
        "\n",
        "def plot_learning_curves(model, X, y):\n",
        "  X_train, X_val, y_train, y_val = train_test_split(X, y, test_size = 0.2)#训练集验证集比例8:2\n",
        "  train_errors , val_errors = [], []\n",
        "  for m in range (1, len(X_train)):\n",
        "    model.fit(X_train[:m], y_train[:m])#取到m个元素\n",
        "    y_train_predict = model.predict(X_train[:m])\n",
        "    y_val_predict = model.predict(X_val)\n",
        "    train_errors.append(mean_squared_error(y_train[:m], y_train_predict))\n",
        "    val_errors.append(mean_squared_error(y_val, y_val_predict))\n",
        "  plt.plot(np.sqrt(train_errors),\"r-+\", linewidth = 2, label = \"train\")\n",
        "  plt.plot(np.sqrt(val_errors),\"b-\", linewidth = 2, label = \"val\")"
      ],
      "metadata": {
        "id": "QOYl4fNQgfrR"
      },
      "execution_count": null,
      "outputs": []
    },
    {
      "cell_type": "code",
      "source": [
        "lin_reg = LinearRegression()\n",
        "plot_learning_curves(lin_reg, X, y)"
      ],
      "metadata": {
        "colab": {
          "base_uri": "https://localhost:8080/",
          "height": 268
        },
        "id": "NC9o9Qq2kos7",
        "outputId": "6b6ad867-76a0-4558-d2c8-7a2ec7678377"
      },
      "execution_count": null,
      "outputs": [
        {
          "output_type": "display_data",
          "data": {
            "text/plain": [
              "<Figure size 432x288 with 1 Axes>"
            ],
            "image/png": "[encoded data removed]"
          },
          "metadata": {
            "needs_background": "light"
          }
        }
      ]
    },
    {
      "cell_type": "markdown",
      "source": [
        "随着训练集大小的扩大，误差基本持平"
      ],
      "metadata": {
        "id": "xoQNZyUmlT4_"
      }
    },
    {
      "cell_type": "markdown",
      "source": [
        "接下来看一下10阶多项式模型的训练曲线"
      ],
      "metadata": {
        "id": "V4bRIWiVn_-8"
      }
    },
    {
      "cell_type": "code",
      "source": [
        "from sklearn.pipeline import Pipeline\n",
        "\n",
        "polynomial_regression = Pipeline([\n",
        "    (\"poly_features\", PolynomialFeatures(degree = 10, include_bias = False)),\n",
        "    (\"lin_reg\", LinearRegression()),\n",
        "])\n",
        "plot_learning_curves(polynomial_regression, X, y)"
      ],
      "metadata": {
        "colab": {
          "base_uri": "https://localhost:8080/",
          "height": 268
        },
        "id": "_ifde-hGoJ_i",
        "outputId": "f121652f-d1bd-4aa1-c4e7-e585835144c5"
      },
      "execution_count": null,
      "outputs": [
        {
          "output_type": "display_data",
          "data": {
            "text/plain": [
              "<Figure size 432x288 with 1 Axes>"
            ],
            "image/png": "[encoded data removed]"
          },
          "metadata": {
            "needs_background": "light"
          }
        }
      ]
    },
    {
      "cell_type": "markdown",
      "source": [
        "# 5 正则化线性模型"
      ],
      "metadata": {
        "id": "Cl4Ne722t6nJ"
      }
    },
    {
      "cell_type": "markdown",
      "source": [
        "## 5.1 岭回归"
      ],
      "metadata": {
        "id": "jjSqWNAdt_ai"
      }
    },
    {
      "cell_type": "markdown",
      "source": [
        "线性回归的正则化版本，将参数也加入成本函数中，\n",
        "\n",
        "从而求取参数theta的公式有了些许变化。\n",
        "\n",
        "alpha越大，对应求解的theta越小，对应拟合曲线约平滑，从而减小方差，增大偏差。"
      ],
      "metadata": {
        "id": "Jxs96C3rut58"
      }
    },
    {
      "cell_type": "code",
      "source": [
        "from sklearn.linear_model import Ridge\n",
        "ridge_reg = Ridge(alpha = 1, solver = \"cholesky\")#使用cholesky矩阵分解技术\n",
        "ridge_reg.fit(X, y)\n",
        "ridge_reg.predict([[1.5]])#x = 1.5,预测"
      ],
      "metadata": {
        "colab": {
          "base_uri": "https://localhost:8080/"
        },
        "id": "36J4cnCbzYtM",
        "outputId": "4318019f-0b31-429e-ebd9-2e21bc2cea7c"
      },
      "execution_count": null,
      "outputs": [
        {
          "output_type": "execute_result",
          "data": {
            "text/plain": [
              "array([[5.07720864]])"
            ]
          },
          "metadata": {},
          "execution_count": 53
        }
      ]
    },
    {
      "cell_type": "code",
      "source": [
        "sgd_reg = SGDRegressor(penalty=\"l2\")\n",
        "sgd_reg.fit(X,y.ravel())\n",
        "sgd_reg.predict([[1.5]])\n",
        "#公式y = 0.5x平方+x+2+r, 大概4.6到5.6之间。"
      ],
      "metadata": {
        "colab": {
          "base_uri": "https://localhost:8080/"
        },
        "id": "Ba-uPo59zyZK",
        "outputId": "8ce19ab4-2a2e-4671-95a7-2bd7723694f9"
      },
      "execution_count": null,
      "outputs": [
        {
          "output_type": "execute_result",
          "data": {
            "text/plain": [
              "array([5.08461165])"
            ]
          },
          "metadata": {},
          "execution_count": 54
        }
      ]
    },
    {
      "cell_type": "markdown",
      "source": [
        "## 5.2 Lasso回归"
      ],
      "metadata": {
        "id": "JE5G_cNB1iku"
      }
    },
    {
      "cell_type": "markdown",
      "source": [
        "与岭回归类似，向成本函数增加一个正则项，增加为l1范数"
      ],
      "metadata": {
        "id": "IkVDZ0gh2B7m"
      }
    },
    {
      "cell_type": "code",
      "source": [
        "from sklearn.linear_model import Lasso\n",
        "lasso_reg = Lasso(alpha = 0.1)\n",
        "lasso_reg.fit(X,y)\n",
        "lasso_reg.predict([[1.5]])\n"
      ],
      "metadata": {
        "colab": {
          "base_uri": "https://localhost:8080/"
        },
        "id": "KiAe4a-fYR2J",
        "outputId": "1bfe2f11-0385-4b6e-d75c-de37630ebef4"
      },
      "execution_count": null,
      "outputs": [
        {
          "output_type": "execute_result",
          "data": {
            "text/plain": [
              "array([5.04247738])"
            ]
          },
          "metadata": {},
          "execution_count": 55
        }
      ]
    },
    {
      "cell_type": "markdown",
      "source": [
        "## 5.3 弹性网络"
      ],
      "metadata": {
        "id": "ncQPhwIyZalb"
      }
    },
    {
      "cell_type": "markdown",
      "source": [
        "弹性网络介于岭回归于Lasso回归之间。正则项为两者的简单混合，混合比为r；\n",
        "通常来说，应该避免穿线性回归，当你觉得实际特征只有少数几个有用时，应该使用Lasso或者弹性网络。"
      ],
      "metadata": {
        "id": "MRAbD51WZt2q"
      }
    },
    {
      "cell_type": "code",
      "source": [
        "from sklearn.linear_model import ElasticNet\n",
        "elastic_net = ElasticNet(alpha = 0.1, l1_ratio=0.5)#混合比为0.5\n",
        "elastic_net.fit(X,y)\n",
        "elastic_net.predict([[1.5]])"
      ],
      "metadata": {
        "colab": {
          "base_uri": "https://localhost:8080/"
        },
        "id": "z7LZfxNgb-my",
        "outputId": "b7184412-9347-4a7d-8d73-d948444bdebd"
      },
      "execution_count": null,
      "outputs": [
        {
          "output_type": "execute_result",
          "data": {
            "text/plain": [
              "array([5.04191364])"
            ]
          },
          "metadata": {},
          "execution_count": 56
        }
      ]
    },
    {
      "cell_type": "markdown",
      "source": [
        "## 5.4 提前停止法"
      ],
      "metadata": {
        "id": "r52fWwC0kRo9"
      }
    },
    {
      "cell_type": "markdown",
      "source": [
        "使用**随机**和**小批量梯度下降**时，可能曲线并不是那么平滑，一种解决方案是设置**最小值**，仅当验证误差超过误差最小值**一段时间后停止**，并且**回滚**模型参数到验证误差最小的位置。"
      ],
      "metadata": {
        "id": "Nyghco_ruxzT"
      }
    },
    {
      "cell_type": "code",
      "source": [
        "np.random.seed(42)\n",
        "m = 100\n",
        "X = 6 * np.random.rand(m, 1) - 3\n",
        "y = 2 + X + 0.5 * X**2 + np.random.randn(m, 1)\n",
        "\n",
        "X_train, X_val, y_train, y_val = train_test_split(X[:50], y[:50].ravel(), test_size=0.5, random_state=10)"
      ],
      "metadata": {
        "id": "VtWk7mxWqbwX"
      },
      "execution_count": null,
      "outputs": []
    },
    {
      "cell_type": "code",
      "source": [
        "from sklearn.base import clone\n",
        "from sklearn.preprocessing import StandardScaler\n",
        "\n",
        "poly_scaler = Pipeline([\n",
        "    (\"poly_features\", PolynomialFeatures(degree = 90, include_bias = False)),\n",
        "    (\"std_scaler\", StandardScaler()),\n",
        "\n",
        "])\n",
        "X_train_poly_scaled = poly_scaler.fit_transform(X_train)\n",
        "X_val_poly_scaled = poly_scaler.transform(X_val)\n",
        "sgd_reg = SGDRegressor(max_iter = 1, tol = -np.infty, warm_start=True, penalty=None, learning_rate=\"constant\", eta0 = 0.0005)\n",
        "\n",
        "minium_val_error = float(\"inf\")\n",
        "best_epoch = None\n",
        "best_model = None\n",
        "for epoch in range(1000):\n",
        "  sgd_reg.fit(X_train_poly_scaled, y_train)\n",
        "  y_val_predict = sgd_reg.predict(X_val_poly_scaled)\n",
        "  val_error = mean_squared_error(y_val, y_val_predict)\n",
        "  if val_error < minium_val_error:\n",
        "    minium_val_error = val_error\n",
        "    best_epoch = epoch\n",
        "    best_model = clone(sgd_reg)\n",
        "\n"
      ],
      "metadata": {
        "id": "8R8bMMr9kWzK"
      },
      "execution_count": null,
      "outputs": []
    },
    {
      "cell_type": "markdown",
      "source": [
        "# 6 逻辑回归"
      ],
      "metadata": {
        "id": "9kquMbiYvhja"
      }
    },
    {
      "cell_type": "markdown",
      "source": [
        "使用回归算法用于分类，例如预测是否为垃圾邮件的概率，若概率大于50%，则属于，否则，不属于。\n",
        "\n",
        "这样，它就成了一个二元分类器。"
      ],
      "metadata": {
        "id": "eg-YhOoCvpQS"
      }
    },
    {
      "cell_type": "markdown",
      "source": [
        "## 6.1 估测概率"
      ],
      "metadata": {
        "id": "EqH-_yHdvkVz"
      }
    },
    {
      "cell_type": "markdown",
      "source": [
        "逻辑函数是一个sigmoid函数，输出一个介于0到1之间的数字。"
      ],
      "metadata": {
        "id": "bIjWAiXrwn-6"
      }
    },
    {
      "cell_type": "markdown",
      "source": [
        "6.2 训练成本函数\n",
        "\n",
        "不能直接求出theta的闭市方程，求偏导数后使用梯度下降算法"
      ],
      "metadata": {
        "id": "1GlzsV5w4xCk"
      }
    },
    {
      "cell_type": "markdown",
      "source": [
        "## 6.3 决策边界"
      ],
      "metadata": {
        "id": "ckPOxp6q5JiP"
      }
    },
    {
      "cell_type": "markdown",
      "source": [
        "使用鸢尾花数据集测试逻辑回归，首先基于花瓣宽度这一特征，创建分类器"
      ],
      "metadata": {
        "id": "_x2iDIkK5kWv"
      }
    },
    {
      "cell_type": "code",
      "source": [
        "from sklearn import datasets\n",
        "iris = datasets.load_iris()\n",
        "list(iris.keys())"
      ],
      "metadata": {
        "colab": {
          "base_uri": "https://localhost:8080/"
        },
        "id": "E592PDSq53Su",
        "outputId": "28d29808-58d0-4407-920b-21e93aec2bd4"
      },
      "execution_count": null,
      "outputs": [
        {
          "output_type": "execute_result",
          "data": {
            "text/plain": [
              "['data',\n",
              " 'target',\n",
              " 'frame',\n",
              " 'target_names',\n",
              " 'DESCR',\n",
              " 'feature_names',\n",
              " 'filename',\n",
              " 'data_module']"
            ]
          },
          "metadata": {},
          "execution_count": 66
        }
      ]
    },
    {
      "cell_type": "code",
      "source": [
        "X = iris[\"data\"][:, 3:]#  X[:,  m:n]，即取所有数据的第m到n-1列数据，含左不含右\n",
        "y = (iris[\"target\"] == 2).astype(np.int)"
      ],
      "metadata": {
        "colab": {
          "base_uri": "https://localhost:8080/"
        },
        "id": "DsnC_Deq6iWG",
        "outputId": "101c979b-f906-4914-c0f7-484b8e2f107b"
      },
      "execution_count": null,
      "outputs": [
        {
          "output_type": "stream",
          "name": "stderr",
          "text": [
            "/usr/local/lib/python3.7/dist-packages/ipykernel_launcher.py:2: DeprecationWarning: `np.int` is a deprecated alias for the builtin `int`. To silence this warning, use `int` by itself. Doing this will not modify any behavior and is safe. When replacing `np.int`, you may wish to use e.g. `np.int64` or `np.int32` to specify the precision. If you wish to review your current use, check the release note link for additional information.\n",
            "Deprecated in NumPy 1.20; for more details and guidance: https://numpy.org/devdocs/release/1.20.0-notes.html#deprecations\n",
            "  \n"
          ]
        }
      ]
    },
    {
      "cell_type": "code",
      "source": [
        "from sklearn.linear_model import LogisticRegression\n",
        "log_reg = LogisticRegression()\n",
        "\n",
        "log_reg.fit(X,y)"
      ],
      "metadata": {
        "colab": {
          "base_uri": "https://localhost:8080/"
        },
        "id": "8962p1Vo7ws8",
        "outputId": "6e6e65c8-1db7-4d38-99ac-4451f04a1cd5"
      },
      "execution_count": null,
      "outputs": [
        {
          "output_type": "execute_result",
          "data": {
            "text/plain": [
              "LogisticRegression()"
            ]
          },
          "metadata": {},
          "execution_count": 68
        }
      ]
    },
    {
      "cell_type": "markdown",
      "source": [
        "看看花瓣宽度在0-3厘米的鸢尾花，模型估算出的概率"
      ],
      "metadata": {
        "id": "p68D34qd8Kn2"
      }
    },
    {
      "cell_type": "code",
      "source": [
        "X_new = np.linspace(0,3,1000).reshape(-1,1)\n",
        "y_proba = log_reg.predict_proba(X_new)\n",
        "plt.plot(X_new, y_proba[:,1],\"g-\",label = \"Iris virginica\")\n",
        "plt.plot(X_new, y_proba[:,0],\"b--\",label = \"Not Iris virginica\");"
      ],
      "metadata": {
        "colab": {
          "base_uri": "https://localhost:8080/",
          "height": 286
        },
        "id": "jNziFaMi8I-k",
        "outputId": "ca40e23c-15f1-4a5e-f86c-72e3d6e32547"
      },
      "execution_count": null,
      "outputs": [
        {
          "output_type": "execute_result",
          "data": {
            "text/plain": [
              "[<matplotlib.lines.Line2D at 0x7fb88c35fdd0>]"
            ]
          },
          "metadata": {},
          "execution_count": 69
        },
        {
          "output_type": "display_data",
          "data": {
            "text/plain": [
              "<Figure size 432x288 with 1 Axes>"
            ],
            "image/png": "[encoded data removed]"
          },
          "metadata": {
            "needs_background": "light"
          }
        }
      ]
    },
    {
      "cell_type": "code",
      "source": [
        "log_reg.predict([[1.7],[1.5]])"
      ],
      "metadata": {
        "colab": {
          "base_uri": "https://localhost:8080/"
        },
        "id": "nhJFMhcR-8T5",
        "outputId": "7845d35f-fd82-447f-a8cf-9d4a8001357b"
      },
      "execution_count": null,
      "outputs": [
        {
          "output_type": "execute_result",
          "data": {
            "text/plain": [
              "array([1, 0])"
            ]
          },
          "metadata": {},
          "execution_count": 70
        }
      ]
    },
    {
      "cell_type": "markdown",
      "source": [
        "6.4 Softmax回归"
      ],
      "metadata": {
        "id": "ljISo3qJ_iSs"
      }
    },
    {
      "cell_type": "markdown",
      "source": [
        "逻辑回归模型经过推广，可以直接支持多个类别。也叫多元逻辑回归"
      ],
      "metadata": {
        "id": "TEKIPeT2_rmV"
      }
    },
    {
      "cell_type": "code",
      "source": [
        "X = iris[\"data\"][:,(2,3)]\n",
        "y = iris[\"target\"]\n",
        "softmax_reg = LogisticRegression(multi_class=\"multinomial\",solver = \"lbfgs\", C = 10)\n",
        "softmax_reg.fit(X,y)\n"
      ],
      "metadata": {
        "colab": {
          "base_uri": "https://localhost:8080/"
        },
        "id": "QrKSZ0EqEcjk",
        "outputId": "ecd7430a-8e62-4073-9e20-789145df49a3"
      },
      "execution_count": null,
      "outputs": [
        {
          "output_type": "execute_result",
          "data": {
            "text/plain": [
              "LogisticRegression(C=10, multi_class='multinomial')"
            ]
          },
          "metadata": {},
          "execution_count": 71
        }
      ]
    },
    {
      "cell_type": "code",
      "source": [
        "softmax_reg.predict([[5,2]])"
      ],
      "metadata": {
        "colab": {
          "base_uri": "https://localhost:8080/"
        },
        "id": "asNCxvs9E94D",
        "outputId": "bb060841-7e04-4406-f166-9c3fc50cb510"
      },
      "execution_count": null,
      "outputs": [
        {
          "output_type": "execute_result",
          "data": {
            "text/plain": [
              "array([2])"
            ]
          },
          "metadata": {},
          "execution_count": 72
        }
      ]
    },
    {
      "cell_type": "code",
      "source": [
        "softmax_reg.predict_proba([[5,2]])#输出概率"
      ],
      "metadata": {
        "colab": {
          "base_uri": "https://localhost:8080/"
        },
        "id": "7VdkvIwaFGNL",
        "outputId": "54cd1b06-7c94-48f1-c110-df531ad2caaa"
      },
      "execution_count": null,
      "outputs": [
        {
          "output_type": "execute_result",
          "data": {
            "text/plain": [
              "array([[6.38014896e-07, 5.74929995e-02, 9.42506362e-01]])"
            ]
          },
          "metadata": {},
          "execution_count": 73
        }
      ]
    }
  ]
}